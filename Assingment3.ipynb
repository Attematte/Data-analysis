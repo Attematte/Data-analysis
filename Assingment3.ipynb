{
 "cells": [
  {
   "cell_type": "markdown",
   "id": "8c0dfbba",
   "metadata": {},
   "source": [
    "# Business Analytics 1 - Assingment 3"
   ]
  },
  {
   "cell_type": "markdown",
   "id": "9f1cde4b",
   "metadata": {},
   "source": [
    "## Name: Atte Kohonen\n",
    "## Student ID: 2101514"
   ]
  },
  {
   "cell_type": "code",
   "execution_count": 1,
   "id": "34f7d380",
   "metadata": {},
   "outputs": [],
   "source": [
    "# Importing the libraries\n",
    "\n",
    "import numpy as np\n",
    "import pandas as pd\n",
    "import seaborn as sns\n",
    "import matplotlib.pyplot as plt\n",
    "\n",
    "from sklearn import linear_model\n",
    "from sklearn.linear_model import LogisticRegression\n",
    "from sklearn.metrics import mean_squared_error, r2_score\n",
    "from sklearn.model_selection import train_test_split\n",
    "from sklearn.metrics import confusion_matrix\n",
    "from sklearn.metrics import classification_report\n",
    "from sklearn.cluster import KMeans\n",
    "from sklearn import preprocessing\n",
    "import statsmodels.api as sm"
   ]
  },
  {
   "cell_type": "markdown",
   "id": "c6bf38e3",
   "metadata": {},
   "source": [
    "## Exercise 1 - Exploratory data analysis of the supermarket dataset"
   ]
  },
  {
   "cell_type": "code",
   "execution_count": 2,
   "id": "ac2bac54",
   "metadata": {},
   "outputs": [
    {
     "data": {
      "text/html": [
       "<div>\n",
       "<style scoped>\n",
       "    .dataframe tbody tr th:only-of-type {\n",
       "        vertical-align: middle;\n",
       "    }\n",
       "\n",
       "    .dataframe tbody tr th {\n",
       "        vertical-align: top;\n",
       "    }\n",
       "\n",
       "    .dataframe thead th {\n",
       "        text-align: right;\n",
       "    }\n",
       "</style>\n",
       "<table border=\"1\" class=\"dataframe\">\n",
       "  <thead>\n",
       "    <tr style=\"text-align: right;\">\n",
       "      <th></th>\n",
       "      <th>Branch</th>\n",
       "      <th>Customer type</th>\n",
       "      <th>Gender</th>\n",
       "      <th>Quantity</th>\n",
       "      <th>Total</th>\n",
       "      <th>Payment</th>\n",
       "      <th>Income</th>\n",
       "      <th>Rating</th>\n",
       "    </tr>\n",
       "  </thead>\n",
       "  <tbody>\n",
       "    <tr>\n",
       "      <th>0</th>\n",
       "      <td>A</td>\n",
       "      <td>Member</td>\n",
       "      <td>Female</td>\n",
       "      <td>7</td>\n",
       "      <td>548.9715</td>\n",
       "      <td>Ewallet</td>\n",
       "      <td>26.1415</td>\n",
       "      <td>9.1</td>\n",
       "    </tr>\n",
       "    <tr>\n",
       "      <th>1</th>\n",
       "      <td>C</td>\n",
       "      <td>Normal</td>\n",
       "      <td>Female</td>\n",
       "      <td>5</td>\n",
       "      <td>80.2200</td>\n",
       "      <td>Cash</td>\n",
       "      <td>3.8200</td>\n",
       "      <td>9.6</td>\n",
       "    </tr>\n",
       "    <tr>\n",
       "      <th>2</th>\n",
       "      <td>A</td>\n",
       "      <td>Normal</td>\n",
       "      <td>Male</td>\n",
       "      <td>7</td>\n",
       "      <td>340.5255</td>\n",
       "      <td>Credit card</td>\n",
       "      <td>16.2155</td>\n",
       "      <td>7.4</td>\n",
       "    </tr>\n",
       "    <tr>\n",
       "      <th>3</th>\n",
       "      <td>A</td>\n",
       "      <td>Member</td>\n",
       "      <td>Male</td>\n",
       "      <td>8</td>\n",
       "      <td>489.0480</td>\n",
       "      <td>Ewallet</td>\n",
       "      <td>23.2880</td>\n",
       "      <td>8.4</td>\n",
       "    </tr>\n",
       "    <tr>\n",
       "      <th>4</th>\n",
       "      <td>A</td>\n",
       "      <td>Normal</td>\n",
       "      <td>Male</td>\n",
       "      <td>7</td>\n",
       "      <td>634.3785</td>\n",
       "      <td>Ewallet</td>\n",
       "      <td>30.2085</td>\n",
       "      <td>5.3</td>\n",
       "    </tr>\n",
       "  </tbody>\n",
       "</table>\n",
       "</div>"
      ],
      "text/plain": [
       "  Branch Customer type  Gender  Quantity     Total      Payment   Income  \\\n",
       "0      A        Member  Female         7  548.9715      Ewallet  26.1415   \n",
       "1      C        Normal  Female         5   80.2200         Cash   3.8200   \n",
       "2      A        Normal    Male         7  340.5255  Credit card  16.2155   \n",
       "3      A        Member    Male         8  489.0480      Ewallet  23.2880   \n",
       "4      A        Normal    Male         7  634.3785      Ewallet  30.2085   \n",
       "\n",
       "   Rating  \n",
       "0     9.1  \n",
       "1     9.6  \n",
       "2     7.4  \n",
       "3     8.4  \n",
       "4     5.3  "
      ]
     },
     "execution_count": 2,
     "metadata": {},
     "output_type": "execute_result"
    }
   ],
   "source": [
    "#importing the file\n",
    "supermarket = pd.read_csv('supermarket.csv', sep =';')\n",
    "supermarket.head()\n"
   ]
  },
  {
   "cell_type": "markdown",
   "id": "29821f8f",
   "metadata": {},
   "source": [
    "### 1.1) Visualization with plots"
   ]
  },
  {
   "cell_type": "markdown",
   "id": "cad99b97",
   "metadata": {},
   "source": [
    "**Exploratory data analysis: try to understand the different variables in the data. As part of this exploratory analysis, create visualizations that show the relationship between ’Total’ and the other variables (create at least 4 plots, you are free to create more if you think it can help in understating the problem), perform aggregation (check how average ’Total’ varies across categorical variables).**"
   ]
  },
  {
   "cell_type": "code",
   "execution_count": 155,
   "id": "3d44e2cb",
   "metadata": {},
   "outputs": [
    {
     "data": {
      "text/plain": [
       "<AxesSubplot:xlabel='Gender', ylabel='Total'>"
      ]
     },
     "execution_count": 155,
     "metadata": {},
     "output_type": "execute_result"
    },
    {
     "data": {
      "image/png": "[encoded data removed]",
      "text/plain": [
       "<Figure size 640x480 with 1 Axes>"
      ]
     },
     "metadata": {},
     "output_type": "display_data"
    }
   ],
   "source": [
    "# Boxplot to illustrate the mean total purchase amount for both men and female.\n",
    "# We can see that females have sligthly higher mean total purchase amount compared to men, around 300 dollars.\n",
    "# Overall we can say that females total purchases are a bit higher. \n",
    "sns.boxplot(x=supermarket.Gender,y=supermarket.Total)\n"
   ]
  },
  {
   "cell_type": "code",
   "execution_count": 156,
   "id": "c5a2006e",
   "metadata": {},
   "outputs": [
    {
     "data": {
      "text/plain": [
       "<seaborn.axisgrid.FacetGrid at 0x7fd6c08cdac0>"
      ]
     },
     "execution_count": 156,
     "metadata": {},
     "output_type": "execute_result"
    },
    {
     "data": {
      "image/png": "[encoded data removed]",
      "text/plain": [
       "<Figure size 500x500 with 1 Axes>"
      ]
     },
     "metadata": {},
     "output_type": "display_data"
    }
   ],
   "source": [
    "# Scatterplot to illustrate the relationship between income and total purchase amount.\n",
    "# We can see that as the income gets higher so does the total purchase amount.\n",
    "\n",
    "sns.relplot(x = 'Income', y = 'Total', kind = 'scatter', data = supermarket)"
   ]
  },
  {
   "cell_type": "code",
   "execution_count": 72,
   "id": "119c1849",
   "metadata": {},
   "outputs": [
    {
     "data": {
      "text/plain": [
       "<AxesSubplot:xlabel='Customer type', ylabel='Total'>"
      ]
     },
     "execution_count": 72,
     "metadata": {},
     "output_type": "execute_result"
    },
    {
     "data": {
      "image/png": "[encoded data removed]",
      "text/plain": [
       "<Figure size 640x480 with 1 Axes>"
      ]
     },
     "metadata": {},
     "output_type": "display_data"
    }
   ],
   "source": [
    "# Do members have higher total purchase amount than non-members?.\n",
    "# As we can see from the boxplot, members tend to spend more money on purchases, atleast when you look at the  top 25%.\n",
    "# However, the mean total purchases between members and normal customers is not significantly different. \n",
    "sns.boxplot(x = 'Customer type', y ='Total', data = supermarket)\n"
   ]
  },
  {
   "cell_type": "code",
   "execution_count": 157,
   "id": "dee340da",
   "metadata": {},
   "outputs": [
    {
     "data": {
      "text/plain": [
       "<seaborn.axisgrid.FacetGrid at 0x7fd6b144c0a0>"
      ]
     },
     "execution_count": 157,
     "metadata": {},
     "output_type": "execute_result"
    },
    {
     "data": {
      "image/png": "[encoded data removed]",
      "text/plain": [
       "<Figure size 600.25x500 with 1 Axes>"
      ]
     },
     "metadata": {},
     "output_type": "display_data"
    }
   ],
   "source": [
    "# What is the relationship between payment type, gender and total purchase? \n",
    "# Let's vizualize this with a violin plot. \n",
    "# We can see from the violin plot that women have higher mean purchases when using Ewallet and cash as a payment type.\n",
    "# Men have slightly higher mean total purchases when using credit card. \n",
    "\n",
    "sns.catplot(x = 'Payment', y ='Total',kind ='violin', data = supermarket, hue ='Gender')"
   ]
  },
  {
   "cell_type": "code",
   "execution_count": 74,
   "id": "7ac206de",
   "metadata": {},
   "outputs": [
    {
     "data": {
      "text/plain": [
       "<AxesSubplot:xlabel='Branch', ylabel='Total'>"
      ]
     },
     "execution_count": 74,
     "metadata": {},
     "output_type": "execute_result"
    },
    {
     "data": {
      "image/png": "[encoded data removed]",
      "text/plain": [
       "<Figure size 640x480 with 1 Axes>"
      ]
     },
     "metadata": {},
     "output_type": "display_data"
    }
   ],
   "source": [
    "# Which branch has the highest mean total purchase?\n",
    "# We can illustrate this with a boxplot. \n",
    "# Branch C has the highest mean total purchase and in general \n",
    "# customers have spend more money on that branch than in others.\n",
    "\n",
    "sns.boxplot(x = 'Branch', y = 'Total',data = supermarket)"
   ]
  },
  {
   "cell_type": "code",
   "execution_count": 158,
   "id": "2aec4b90",
   "metadata": {},
   "outputs": [
    {
     "data": {
      "text/html": [
       "<div>\n",
       "<style scoped>\n",
       "    .dataframe tbody tr th:only-of-type {\n",
       "        vertical-align: middle;\n",
       "    }\n",
       "\n",
       "    .dataframe tbody tr th {\n",
       "        vertical-align: top;\n",
       "    }\n",
       "\n",
       "    .dataframe thead th {\n",
       "        text-align: right;\n",
       "    }\n",
       "</style>\n",
       "<table border=\"1\" class=\"dataframe\">\n",
       "  <thead>\n",
       "    <tr style=\"text-align: right;\">\n",
       "      <th></th>\n",
       "      <th></th>\n",
       "      <th></th>\n",
       "      <th>Total</th>\n",
       "    </tr>\n",
       "    <tr>\n",
       "      <th>Gender</th>\n",
       "      <th>Customer type</th>\n",
       "      <th>Payment</th>\n",
       "      <th></th>\n",
       "    </tr>\n",
       "  </thead>\n",
       "  <tbody>\n",
       "    <tr>\n",
       "      <th rowspan=\"6\" valign=\"top\">Female</th>\n",
       "      <th rowspan=\"3\" valign=\"top\">Member</th>\n",
       "      <th>Cash</th>\n",
       "      <td>332.381467</td>\n",
       "    </tr>\n",
       "    <tr>\n",
       "      <th>Credit card</th>\n",
       "      <td>344.482833</td>\n",
       "    </tr>\n",
       "    <tr>\n",
       "      <th>Ewallet</th>\n",
       "      <td>336.162426</td>\n",
       "    </tr>\n",
       "    <tr>\n",
       "      <th rowspan=\"3\" valign=\"top\">Normal</th>\n",
       "      <th>Cash</th>\n",
       "      <td>336.362250</td>\n",
       "    </tr>\n",
       "    <tr>\n",
       "      <th>Credit card</th>\n",
       "      <td>308.150548</td>\n",
       "    </tr>\n",
       "    <tr>\n",
       "      <th>Ewallet</th>\n",
       "      <td>349.887513</td>\n",
       "    </tr>\n",
       "    <tr>\n",
       "      <th rowspan=\"6\" valign=\"top\">Male</th>\n",
       "      <th rowspan=\"3\" valign=\"top\">Member</th>\n",
       "      <th>Cash</th>\n",
       "      <td>317.265173</td>\n",
       "    </tr>\n",
       "    <tr>\n",
       "      <th>Credit card</th>\n",
       "      <td>326.439238</td>\n",
       "    </tr>\n",
       "    <tr>\n",
       "      <th>Ewallet</th>\n",
       "      <td>307.022494</td>\n",
       "    </tr>\n",
       "    <tr>\n",
       "      <th rowspan=\"3\" valign=\"top\">Normal</th>\n",
       "      <th>Cash</th>\n",
       "      <td>317.564506</td>\n",
       "    </tr>\n",
       "    <tr>\n",
       "      <th>Credit card</th>\n",
       "      <td>310.615295</td>\n",
       "    </tr>\n",
       "    <tr>\n",
       "      <th>Ewallet</th>\n",
       "      <td>291.057500</td>\n",
       "    </tr>\n",
       "  </tbody>\n",
       "</table>\n",
       "</div>"
      ],
      "text/plain": [
       "                                       Total\n",
       "Gender Customer type Payment                \n",
       "Female Member        Cash         332.381467\n",
       "                     Credit card  344.482833\n",
       "                     Ewallet      336.162426\n",
       "       Normal        Cash         336.362250\n",
       "                     Credit card  308.150548\n",
       "                     Ewallet      349.887513\n",
       "Male   Member        Cash         317.265173\n",
       "                     Credit card  326.439238\n",
       "                     Ewallet      307.022494\n",
       "       Normal        Cash         317.564506\n",
       "                     Credit card  310.615295\n",
       "                     Ewallet      291.057500"
      ]
     },
     "execution_count": 158,
     "metadata": {},
     "output_type": "execute_result"
    }
   ],
   "source": [
    "# We can also do some data aggregation on the categorical variables by using the groupby function.\n",
    "# For example, we can see that female members tend to spend more money than male members on average.\n",
    "supermarket[['Gender','Customer type','Payment','Total']].groupby(['Gender','Customer type','Payment']).mean()\n"
   ]
  },
  {
   "cell_type": "markdown",
   "id": "99d26c6f",
   "metadata": {},
   "source": [
    "### 1.2 ) Regression model"
   ]
  },
  {
   "cell_type": "markdown",
   "id": "b9809c23",
   "metadata": {},
   "source": [
    "**Divide the data into training and test set: the training set should contain datapoints from branches A and B, and the test set from branch C. Develop a regression model using the training set that the company can use to predict the amount of purchase for a customer. Evaluate the performance for the test set.**"
   ]
  },
  {
   "cell_type": "code",
   "execution_count": 159,
   "id": "fb13019e",
   "metadata": {},
   "outputs": [
    {
     "data": {
      "text/html": [
       "<div>\n",
       "<style scoped>\n",
       "    .dataframe tbody tr th:only-of-type {\n",
       "        vertical-align: middle;\n",
       "    }\n",
       "\n",
       "    .dataframe tbody tr th {\n",
       "        vertical-align: top;\n",
       "    }\n",
       "\n",
       "    .dataframe thead th {\n",
       "        text-align: right;\n",
       "    }\n",
       "</style>\n",
       "<table border=\"1\" class=\"dataframe\">\n",
       "  <thead>\n",
       "    <tr style=\"text-align: right;\">\n",
       "      <th></th>\n",
       "      <th>Branch</th>\n",
       "      <th>Quantity</th>\n",
       "      <th>Total</th>\n",
       "      <th>Payment</th>\n",
       "      <th>Income</th>\n",
       "      <th>Rating</th>\n",
       "      <th>Customer type_Normal</th>\n",
       "      <th>Gender_Male</th>\n",
       "    </tr>\n",
       "  </thead>\n",
       "  <tbody>\n",
       "    <tr>\n",
       "      <th>0</th>\n",
       "      <td>A</td>\n",
       "      <td>7</td>\n",
       "      <td>548.9715</td>\n",
       "      <td>Ewallet</td>\n",
       "      <td>26.1415</td>\n",
       "      <td>9.1</td>\n",
       "      <td>0</td>\n",
       "      <td>0</td>\n",
       "    </tr>\n",
       "    <tr>\n",
       "      <th>1</th>\n",
       "      <td>C</td>\n",
       "      <td>5</td>\n",
       "      <td>80.2200</td>\n",
       "      <td>Cash</td>\n",
       "      <td>3.8200</td>\n",
       "      <td>9.6</td>\n",
       "      <td>1</td>\n",
       "      <td>0</td>\n",
       "    </tr>\n",
       "    <tr>\n",
       "      <th>2</th>\n",
       "      <td>A</td>\n",
       "      <td>7</td>\n",
       "      <td>340.5255</td>\n",
       "      <td>Credit card</td>\n",
       "      <td>16.2155</td>\n",
       "      <td>7.4</td>\n",
       "      <td>1</td>\n",
       "      <td>1</td>\n",
       "    </tr>\n",
       "    <tr>\n",
       "      <th>3</th>\n",
       "      <td>A</td>\n",
       "      <td>8</td>\n",
       "      <td>489.0480</td>\n",
       "      <td>Ewallet</td>\n",
       "      <td>23.2880</td>\n",
       "      <td>8.4</td>\n",
       "      <td>0</td>\n",
       "      <td>1</td>\n",
       "    </tr>\n",
       "    <tr>\n",
       "      <th>4</th>\n",
       "      <td>A</td>\n",
       "      <td>7</td>\n",
       "      <td>634.3785</td>\n",
       "      <td>Ewallet</td>\n",
       "      <td>30.2085</td>\n",
       "      <td>5.3</td>\n",
       "      <td>1</td>\n",
       "      <td>1</td>\n",
       "    </tr>\n",
       "  </tbody>\n",
       "</table>\n",
       "</div>"
      ],
      "text/plain": [
       "  Branch  Quantity     Total      Payment   Income  Rating  \\\n",
       "0      A         7  548.9715      Ewallet  26.1415     9.1   \n",
       "1      C         5   80.2200         Cash   3.8200     9.6   \n",
       "2      A         7  340.5255  Credit card  16.2155     7.4   \n",
       "3      A         8  489.0480      Ewallet  23.2880     8.4   \n",
       "4      A         7  634.3785      Ewallet  30.2085     5.3   \n",
       "\n",
       "   Customer type_Normal  Gender_Male  \n",
       "0                     0            0  \n",
       "1                     1            0  \n",
       "2                     1            1  \n",
       "3                     0            1  \n",
       "4                     1            1  "
      ]
     },
     "execution_count": 159,
     "metadata": {},
     "output_type": "execute_result"
    }
   ],
   "source": [
    "# We can create dummies of the categorical variables Customer type and gender and use this in the model.\n",
    "supermarket = pd.get_dummies(data = supermarket, columns = ['Customer type'], drop_first = True)\n",
    "supermarket = pd.get_dummies(data = supermarket,columns = ['Gender'],drop_first = True)\n",
    "\n",
    "supermarket.head()"
   ]
  },
  {
   "cell_type": "code",
   "execution_count": 160,
   "id": "4a40b32f",
   "metadata": {},
   "outputs": [
    {
     "data": {
      "text/plain": [
       "Quantity                0.705510\n",
       "Total                   1.000000\n",
       "Income                  1.000000\n",
       "Rating                 -0.036442\n",
       "Customer type_Normal   -0.019670\n",
       "Gender_Male            -0.049451\n",
       "Name: Total, dtype: float64"
      ]
     },
     "execution_count": 160,
     "metadata": {},
     "output_type": "execute_result"
    }
   ],
   "source": [
    "# Checking the correlation of the variables in relation to the total purchase amount.\n",
    "# In terms of the correlation we can see that especially Quantity and Income are highly correlated\n",
    "# to the total purchase amount.\n",
    "supermarket.corr()['Total']"
   ]
  },
  {
   "cell_type": "code",
   "execution_count": 161,
   "id": "3ae70437",
   "metadata": {},
   "outputs": [
    {
     "name": "stdout",
     "output_type": "stream",
     "text": [
      "-5.684341886080802e-14 [3.97281273e-14 2.10000000e+01 2.19269047e-15 1.45161660e-14]\n",
      "\n",
      "[ 80.22   627.6165 772.38   451.71   417.564 ]\n",
      "1      80.2200\n",
      "5     627.6165\n",
      "7     772.3800\n",
      "20    451.7100\n",
      "34    417.5640\n",
      "Name: Total, dtype: float64\n"
     ]
    },
    {
     "data": {
      "text/plain": [
       "1.0"
      ]
     },
     "execution_count": 161,
     "metadata": {},
     "output_type": "execute_result"
    }
   ],
   "source": [
    "# I have used Quantity, Income, Gender and Customer type as predictors when estimating the purchase amount \n",
    "# for a customer. \n",
    "\n",
    "# Selecting the training set\n",
    "training = supermarket[(supermarket.Branch == 'A') | (supermarket.Branch == 'B')]\n",
    "Branch_AB = training[['Quantity','Income','Gender_Male','Customer type_Normal']]\n",
    "\n",
    "# Selecting the test set \n",
    "test = supermarket[(supermarket.Branch == 'C')]\n",
    "Branch_C = test[['Quantity','Income','Gender_Male','Customer type_Normal']]\n",
    "\n",
    "# Creating a linear regression object\n",
    "\n",
    "regression = linear_model.LinearRegression()\n",
    "\n",
    "# We can separete the predictors and the target for the model\n",
    "\n",
    "training_X,training_Y = Branch_AB, training.Total\n",
    "\n",
    "# Creating and training a regression model using the training set.\n",
    "\n",
    "regressionmodel = regression.fit(Branch_AB,training.Total)\n",
    "\n",
    "# We can print out the coefficient and intercept\n",
    "intercept = regressionmodel.intercept_\n",
    "coef = regressionmodel.coef_\n",
    "print(intercept, coef)\n",
    "print()\n",
    "\n",
    "# Now we should be able to use the model to make predictions with the test set. \n",
    "# We can see that the predicted amounts of purchases are accurate to the original ones. \n",
    "\n",
    "predictions = regression.predict(Branch_C)\n",
    "print(predictions[:5])\n",
    "print(test['Total'][:5])\n",
    "\n",
    "# Evaluating the performance of the model for the test set. \n",
    "# The R2-score tells us that the results are really accurate and that the variables used to make\n",
    "# the prediction are good in relation to the outcome variable. \n",
    "regressionmodel.score(Branch_C,test.Total)"
   ]
  },
  {
   "cell_type": "code",
   "execution_count": 162,
   "id": "ec560837",
   "metadata": {},
   "outputs": [
    {
     "name": "stdout",
     "output_type": "stream",
     "text": [
      "2.5427709507421716e-26\n"
     ]
    }
   ],
   "source": [
    "# We can calculate the mean squared error. The mean squared error is rather small, meaning that there is not that much of\n",
    "# errors.\n",
    "\n",
    "print(mean_squared_error(test['Total'],predictions))"
   ]
  },
  {
   "cell_type": "code",
   "execution_count": 163,
   "id": "cbc8f1bd",
   "metadata": {},
   "outputs": [
    {
     "name": "stdout",
     "output_type": "stream",
     "text": [
      "                            OLS Regression Results                            \n",
      "==============================================================================\n",
      "Dep. Variable:                  Total   R-squared:                       1.000\n",
      "Model:                            OLS   Adj. R-squared:                  1.000\n",
      "Method:                 Least Squares   F-statistic:                 5.545e+32\n",
      "Date:                Sun, 26 Mar 2023   Prob (F-statistic):               0.00\n",
      "Time:                        15:59:49   Log-Likelihood:                 18987.\n",
      "No. Observations:                 672   AIC:                        -3.796e+04\n",
      "Df Residuals:                     667   BIC:                        -3.794e+04\n",
      "Df Model:                           4                                         \n",
      "Covariance Type:            nonrobust                                         \n",
      "========================================================================================\n",
      "                           coef    std err          t      P>|t|      [0.025      0.975]\n",
      "----------------------------------------------------------------------------------------\n",
      "const                -1.374e-13   1.35e-14    -10.195      0.000   -1.64e-13   -1.11e-13\n",
      "Quantity              4.974e-14   2.42e-15     20.550      0.000     4.5e-14    5.45e-14\n",
      "Income                  21.0000   6.16e-16   3.41e+16      0.000      21.000      21.000\n",
      "Gender_Male           2.842e-14   1.01e-14      2.819      0.005    8.63e-15    4.82e-14\n",
      "Customer type_Normal  5.329e-14   1.01e-14      5.283      0.000    3.35e-14    7.31e-14\n",
      "==============================================================================\n",
      "Omnibus:                       37.602   Durbin-Watson:                   1.558\n",
      "Prob(Omnibus):                  0.000   Jarque-Bera (JB):               41.140\n",
      "Skew:                          -0.584   Prob(JB):                     1.17e-09\n",
      "Kurtosis:                       2.678   Cond. No.                         59.5\n",
      "==============================================================================\n",
      "\n",
      "Notes:\n",
      "[1] Standard Errors assume that the covariance matrix of the errors is correctly specified.\n"
     ]
    }
   ],
   "source": [
    "# We can also use statsmodel to estimate the coefficients of the model. We can see that the P-value is very low,\n",
    "# highligthing the significance of the model. \n",
    "constant = sm.add_constant(training_X)\n",
    "estimation = sm.OLS(training_Y,constant)\n",
    "estimation2 = estimation.fit()\n",
    "print(estimation2.summary())"
   ]
  },
  {
   "cell_type": "markdown",
   "id": "16bcc1ef",
   "metadata": {},
   "source": [
    "## 1.3 ) Coefficients of the final model"
   ]
  },
  {
   "cell_type": "markdown",
   "id": "b622367f",
   "metadata": {},
   "source": [
    "\n",
    "**By looking at the coefficients of your final model, would you say that, in general, (i) male or female customers spend more money in the supermarket; \n",
    "(ii) members of the loyalty program or normal customers spend more money?**"
   ]
  },
  {
   "cell_type": "code",
   "execution_count": 164,
   "id": "95df1ab6",
   "metadata": {},
   "outputs": [],
   "source": [
    "# By looking at the coefficients it seems that Males spend less money in the supermarket than females. Also members tend\n",
    "# to spend more than normal customers. "
   ]
  },
  {
   "cell_type": "markdown",
   "id": "35831a05",
   "metadata": {},
   "source": [
    "# Exercise 2 - classification model for a hotel\n"
   ]
  },
  {
   "cell_type": "markdown",
   "id": "4c9bec64",
   "metadata": {},
   "source": [
    "**In this assignment, your task is to create a classification model that can predict whether a reservation in a hotel will be canceled or not.**\n"
   ]
  },
  {
   "cell_type": "code",
   "execution_count": 165,
   "id": "48bdadb1",
   "metadata": {},
   "outputs": [
    {
     "data": {
      "text/html": [
       "<div>\n",
       "<style scoped>\n",
       "    .dataframe tbody tr th:only-of-type {\n",
       "        vertical-align: middle;\n",
       "    }\n",
       "\n",
       "    .dataframe tbody tr th {\n",
       "        vertical-align: top;\n",
       "    }\n",
       "\n",
       "    .dataframe thead th {\n",
       "        text-align: right;\n",
       "    }\n",
       "</style>\n",
       "<table border=\"1\" class=\"dataframe\">\n",
       "  <thead>\n",
       "    <tr style=\"text-align: right;\">\n",
       "      <th></th>\n",
       "      <th>no_of_adults</th>\n",
       "      <th>no_of_children</th>\n",
       "      <th>no_of_weekend_nights</th>\n",
       "      <th>no_of_week_nights</th>\n",
       "      <th>required_car_parking_space</th>\n",
       "      <th>room_type_reserved</th>\n",
       "      <th>lead_time</th>\n",
       "      <th>arrival_month</th>\n",
       "      <th>arrival_date</th>\n",
       "      <th>repeated_guest</th>\n",
       "      <th>no_of_previous_cancellations</th>\n",
       "      <th>no_of_previous_bookings_not_canceled</th>\n",
       "      <th>avg_price_per_room</th>\n",
       "      <th>no_of_special_requests</th>\n",
       "      <th>booking_status</th>\n",
       "    </tr>\n",
       "  </thead>\n",
       "  <tbody>\n",
       "    <tr>\n",
       "      <th>0</th>\n",
       "      <td>2</td>\n",
       "      <td>0</td>\n",
       "      <td>1</td>\n",
       "      <td>2</td>\n",
       "      <td>0</td>\n",
       "      <td>Room_Type 1</td>\n",
       "      <td>224</td>\n",
       "      <td>10</td>\n",
       "      <td>2</td>\n",
       "      <td>0</td>\n",
       "      <td>0</td>\n",
       "      <td>0</td>\n",
       "      <td>65.00</td>\n",
       "      <td>0</td>\n",
       "      <td>Not_Canceled</td>\n",
       "    </tr>\n",
       "    <tr>\n",
       "      <th>1</th>\n",
       "      <td>2</td>\n",
       "      <td>0</td>\n",
       "      <td>2</td>\n",
       "      <td>3</td>\n",
       "      <td>0</td>\n",
       "      <td>Room_Type 1</td>\n",
       "      <td>5</td>\n",
       "      <td>11</td>\n",
       "      <td>6</td>\n",
       "      <td>0</td>\n",
       "      <td>0</td>\n",
       "      <td>0</td>\n",
       "      <td>106.68</td>\n",
       "      <td>1</td>\n",
       "      <td>Not_Canceled</td>\n",
       "    </tr>\n",
       "    <tr>\n",
       "      <th>2</th>\n",
       "      <td>1</td>\n",
       "      <td>0</td>\n",
       "      <td>2</td>\n",
       "      <td>1</td>\n",
       "      <td>0</td>\n",
       "      <td>Room_Type 1</td>\n",
       "      <td>1</td>\n",
       "      <td>2</td>\n",
       "      <td>28</td>\n",
       "      <td>0</td>\n",
       "      <td>0</td>\n",
       "      <td>0</td>\n",
       "      <td>60.00</td>\n",
       "      <td>0</td>\n",
       "      <td>Canceled</td>\n",
       "    </tr>\n",
       "    <tr>\n",
       "      <th>3</th>\n",
       "      <td>2</td>\n",
       "      <td>0</td>\n",
       "      <td>0</td>\n",
       "      <td>2</td>\n",
       "      <td>0</td>\n",
       "      <td>Room_Type 1</td>\n",
       "      <td>211</td>\n",
       "      <td>5</td>\n",
       "      <td>20</td>\n",
       "      <td>0</td>\n",
       "      <td>0</td>\n",
       "      <td>0</td>\n",
       "      <td>100.00</td>\n",
       "      <td>0</td>\n",
       "      <td>Canceled</td>\n",
       "    </tr>\n",
       "    <tr>\n",
       "      <th>4</th>\n",
       "      <td>2</td>\n",
       "      <td>0</td>\n",
       "      <td>1</td>\n",
       "      <td>1</td>\n",
       "      <td>0</td>\n",
       "      <td>Room_Type 1</td>\n",
       "      <td>48</td>\n",
       "      <td>4</td>\n",
       "      <td>11</td>\n",
       "      <td>0</td>\n",
       "      <td>0</td>\n",
       "      <td>0</td>\n",
       "      <td>94.50</td>\n",
       "      <td>0</td>\n",
       "      <td>Canceled</td>\n",
       "    </tr>\n",
       "  </tbody>\n",
       "</table>\n",
       "</div>"
      ],
      "text/plain": [
       "   no_of_adults  no_of_children  no_of_weekend_nights  no_of_week_nights  \\\n",
       "0             2               0                     1                  2   \n",
       "1             2               0                     2                  3   \n",
       "2             1               0                     2                  1   \n",
       "3             2               0                     0                  2   \n",
       "4             2               0                     1                  1   \n",
       "\n",
       "   required_car_parking_space room_type_reserved  lead_time  arrival_month  \\\n",
       "0                           0        Room_Type 1        224             10   \n",
       "1                           0        Room_Type 1          5             11   \n",
       "2                           0        Room_Type 1          1              2   \n",
       "3                           0        Room_Type 1        211              5   \n",
       "4                           0        Room_Type 1         48              4   \n",
       "\n",
       "   arrival_date  repeated_guest  no_of_previous_cancellations  \\\n",
       "0             2               0                             0   \n",
       "1             6               0                             0   \n",
       "2            28               0                             0   \n",
       "3            20               0                             0   \n",
       "4            11               0                             0   \n",
       "\n",
       "   no_of_previous_bookings_not_canceled  avg_price_per_room  \\\n",
       "0                                     0               65.00   \n",
       "1                                     0              106.68   \n",
       "2                                     0               60.00   \n",
       "3                                     0              100.00   \n",
       "4                                     0               94.50   \n",
       "\n",
       "   no_of_special_requests booking_status  \n",
       "0                       0   Not_Canceled  \n",
       "1                       1   Not_Canceled  \n",
       "2                       0       Canceled  \n",
       "3                       0       Canceled  \n",
       "4                       0       Canceled  "
      ]
     },
     "execution_count": 165,
     "metadata": {},
     "output_type": "execute_result"
    }
   ],
   "source": [
    "#Importing the data \n",
    "\n",
    "hotel = pd.read_csv('hotel.csv', sep =';')\n",
    "hotel.head()\n"
   ]
  },
  {
   "cell_type": "markdown",
   "id": "44d940a5",
   "metadata": {},
   "source": [
    "### 2.1) Perform one-hot encoding on the categorical columns if any"
   ]
  },
  {
   "cell_type": "code",
   "execution_count": 166,
   "id": "aa8311a7",
   "metadata": {},
   "outputs": [
    {
     "data": {
      "text/html": [
       "<div>\n",
       "<style scoped>\n",
       "    .dataframe tbody tr th:only-of-type {\n",
       "        vertical-align: middle;\n",
       "    }\n",
       "\n",
       "    .dataframe tbody tr th {\n",
       "        vertical-align: top;\n",
       "    }\n",
       "\n",
       "    .dataframe thead th {\n",
       "        text-align: right;\n",
       "    }\n",
       "</style>\n",
       "<table border=\"1\" class=\"dataframe\">\n",
       "  <thead>\n",
       "    <tr style=\"text-align: right;\">\n",
       "      <th></th>\n",
       "      <th>no_of_adults</th>\n",
       "      <th>no_of_children</th>\n",
       "      <th>no_of_weekend_nights</th>\n",
       "      <th>no_of_week_nights</th>\n",
       "      <th>required_car_parking_space</th>\n",
       "      <th>lead_time</th>\n",
       "      <th>arrival_month</th>\n",
       "      <th>arrival_date</th>\n",
       "      <th>repeated_guest</th>\n",
       "      <th>no_of_previous_cancellations</th>\n",
       "      <th>...</th>\n",
       "      <th>avg_price_per_room</th>\n",
       "      <th>no_of_special_requests</th>\n",
       "      <th>room_type_reserved_Room_Type 1</th>\n",
       "      <th>room_type_reserved_Room_Type 2</th>\n",
       "      <th>room_type_reserved_Room_Type 3</th>\n",
       "      <th>room_type_reserved_Room_Type 4</th>\n",
       "      <th>room_type_reserved_Room_Type 5</th>\n",
       "      <th>room_type_reserved_Room_Type 6</th>\n",
       "      <th>room_type_reserved_Room_Type 7</th>\n",
       "      <th>booking_status_Not_Canceled</th>\n",
       "    </tr>\n",
       "  </thead>\n",
       "  <tbody>\n",
       "    <tr>\n",
       "      <th>0</th>\n",
       "      <td>2</td>\n",
       "      <td>0</td>\n",
       "      <td>1</td>\n",
       "      <td>2</td>\n",
       "      <td>0</td>\n",
       "      <td>224</td>\n",
       "      <td>10</td>\n",
       "      <td>2</td>\n",
       "      <td>0</td>\n",
       "      <td>0</td>\n",
       "      <td>...</td>\n",
       "      <td>65.00</td>\n",
       "      <td>0</td>\n",
       "      <td>1</td>\n",
       "      <td>0</td>\n",
       "      <td>0</td>\n",
       "      <td>0</td>\n",
       "      <td>0</td>\n",
       "      <td>0</td>\n",
       "      <td>0</td>\n",
       "      <td>1</td>\n",
       "    </tr>\n",
       "    <tr>\n",
       "      <th>1</th>\n",
       "      <td>2</td>\n",
       "      <td>0</td>\n",
       "      <td>2</td>\n",
       "      <td>3</td>\n",
       "      <td>0</td>\n",
       "      <td>5</td>\n",
       "      <td>11</td>\n",
       "      <td>6</td>\n",
       "      <td>0</td>\n",
       "      <td>0</td>\n",
       "      <td>...</td>\n",
       "      <td>106.68</td>\n",
       "      <td>1</td>\n",
       "      <td>1</td>\n",
       "      <td>0</td>\n",
       "      <td>0</td>\n",
       "      <td>0</td>\n",
       "      <td>0</td>\n",
       "      <td>0</td>\n",
       "      <td>0</td>\n",
       "      <td>1</td>\n",
       "    </tr>\n",
       "    <tr>\n",
       "      <th>2</th>\n",
       "      <td>1</td>\n",
       "      <td>0</td>\n",
       "      <td>2</td>\n",
       "      <td>1</td>\n",
       "      <td>0</td>\n",
       "      <td>1</td>\n",
       "      <td>2</td>\n",
       "      <td>28</td>\n",
       "      <td>0</td>\n",
       "      <td>0</td>\n",
       "      <td>...</td>\n",
       "      <td>60.00</td>\n",
       "      <td>0</td>\n",
       "      <td>1</td>\n",
       "      <td>0</td>\n",
       "      <td>0</td>\n",
       "      <td>0</td>\n",
       "      <td>0</td>\n",
       "      <td>0</td>\n",
       "      <td>0</td>\n",
       "      <td>0</td>\n",
       "    </tr>\n",
       "    <tr>\n",
       "      <th>3</th>\n",
       "      <td>2</td>\n",
       "      <td>0</td>\n",
       "      <td>0</td>\n",
       "      <td>2</td>\n",
       "      <td>0</td>\n",
       "      <td>211</td>\n",
       "      <td>5</td>\n",
       "      <td>20</td>\n",
       "      <td>0</td>\n",
       "      <td>0</td>\n",
       "      <td>...</td>\n",
       "      <td>100.00</td>\n",
       "      <td>0</td>\n",
       "      <td>1</td>\n",
       "      <td>0</td>\n",
       "      <td>0</td>\n",
       "      <td>0</td>\n",
       "      <td>0</td>\n",
       "      <td>0</td>\n",
       "      <td>0</td>\n",
       "      <td>0</td>\n",
       "    </tr>\n",
       "    <tr>\n",
       "      <th>4</th>\n",
       "      <td>2</td>\n",
       "      <td>0</td>\n",
       "      <td>1</td>\n",
       "      <td>1</td>\n",
       "      <td>0</td>\n",
       "      <td>48</td>\n",
       "      <td>4</td>\n",
       "      <td>11</td>\n",
       "      <td>0</td>\n",
       "      <td>0</td>\n",
       "      <td>...</td>\n",
       "      <td>94.50</td>\n",
       "      <td>0</td>\n",
       "      <td>1</td>\n",
       "      <td>0</td>\n",
       "      <td>0</td>\n",
       "      <td>0</td>\n",
       "      <td>0</td>\n",
       "      <td>0</td>\n",
       "      <td>0</td>\n",
       "      <td>0</td>\n",
       "    </tr>\n",
       "  </tbody>\n",
       "</table>\n",
       "<p>5 rows × 21 columns</p>\n",
       "</div>"
      ],
      "text/plain": [
       "   no_of_adults  no_of_children  no_of_weekend_nights  no_of_week_nights  \\\n",
       "0             2               0                     1                  2   \n",
       "1             2               0                     2                  3   \n",
       "2             1               0                     2                  1   \n",
       "3             2               0                     0                  2   \n",
       "4             2               0                     1                  1   \n",
       "\n",
       "   required_car_parking_space  lead_time  arrival_month  arrival_date  \\\n",
       "0                           0        224             10             2   \n",
       "1                           0          5             11             6   \n",
       "2                           0          1              2            28   \n",
       "3                           0        211              5            20   \n",
       "4                           0         48              4            11   \n",
       "\n",
       "   repeated_guest  no_of_previous_cancellations  ...  avg_price_per_room  \\\n",
       "0               0                             0  ...               65.00   \n",
       "1               0                             0  ...              106.68   \n",
       "2               0                             0  ...               60.00   \n",
       "3               0                             0  ...              100.00   \n",
       "4               0                             0  ...               94.50   \n",
       "\n",
       "   no_of_special_requests  room_type_reserved_Room_Type 1  \\\n",
       "0                       0                               1   \n",
       "1                       1                               1   \n",
       "2                       0                               1   \n",
       "3                       0                               1   \n",
       "4                       0                               1   \n",
       "\n",
       "   room_type_reserved_Room_Type 2  room_type_reserved_Room_Type 3  \\\n",
       "0                               0                               0   \n",
       "1                               0                               0   \n",
       "2                               0                               0   \n",
       "3                               0                               0   \n",
       "4                               0                               0   \n",
       "\n",
       "   room_type_reserved_Room_Type 4  room_type_reserved_Room_Type 5  \\\n",
       "0                               0                               0   \n",
       "1                               0                               0   \n",
       "2                               0                               0   \n",
       "3                               0                               0   \n",
       "4                               0                               0   \n",
       "\n",
       "   room_type_reserved_Room_Type 6  room_type_reserved_Room_Type 7  \\\n",
       "0                               0                               0   \n",
       "1                               0                               0   \n",
       "2                               0                               0   \n",
       "3                               0                               0   \n",
       "4                               0                               0   \n",
       "\n",
       "   booking_status_Not_Canceled  \n",
       "0                            1  \n",
       "1                            1  \n",
       "2                            0  \n",
       "3                            0  \n",
       "4                            0  \n",
       "\n",
       "[5 rows x 21 columns]"
      ]
     },
     "execution_count": 166,
     "metadata": {},
     "output_type": "execute_result"
    }
   ],
   "source": [
    "# creating dummies for 'booking_status' and 'room_type_reserved' categorical columns\n",
    "hoteldata = pd.get_dummies(data = hotel,columns =['room_type_reserved'],drop_first = False)\n",
    "finaldata = pd.get_dummies(data = hoteldata,columns =['booking_status'],drop_first = True)\n",
    "finaldata.head()"
   ]
  },
  {
   "cell_type": "markdown",
   "id": "2a053226",
   "metadata": {},
   "source": [
    "### 2.2) Histograms of the columns lead time, and no of previous bookings not canceled. Removal of possible outliers. \n",
    "\n"
   ]
  },
  {
   "cell_type": "code",
   "execution_count": 167,
   "id": "f8a09fa5",
   "metadata": {},
   "outputs": [
    {
     "data": {
      "text/plain": [
       "array([[<AxesSubplot:title={'center':'lead_time'}>]], dtype=object)"
      ]
     },
     "execution_count": 167,
     "metadata": {},
     "output_type": "execute_result"
    },
    {
     "data": {
      "image/png": "[encoded data removed]",
      "text/plain": [
       "<Figure size 640x480 with 1 Axes>"
      ]
     },
     "metadata": {},
     "output_type": "display_data"
    }
   ],
   "source": [
    "# Histogram of the 'lead time' column\n",
    "finaldata.hist(column =['lead_time'])\n"
   ]
  },
  {
   "cell_type": "code",
   "execution_count": 168,
   "id": "88418670",
   "metadata": {},
   "outputs": [
    {
     "data": {
      "text/plain": [
       "array([[<AxesSubplot:title={'center':'no_of_previous_bookings_not_canceled'}>]],\n",
       "      dtype=object)"
      ]
     },
     "execution_count": 168,
     "metadata": {},
     "output_type": "execute_result"
    },
    {
     "data": {
      "image/png": "[encoded data removed]",
      "text/plain": [
       "<Figure size 640x480 with 1 Axes>"
      ]
     },
     "metadata": {},
     "output_type": "display_data"
    }
   ],
   "source": [
    "# histogram of the column 'no of previous bookings not canceled'\n",
    "finaldata.hist(column =['no_of_previous_bookings_not_canceled'])"
   ]
  },
  {
   "cell_type": "markdown",
   "id": "6774bc1c",
   "metadata": {},
   "source": [
    "### 2.3) Replace any missing values you find"
   ]
  },
  {
   "cell_type": "code",
   "execution_count": 169,
   "id": "f1bf64d5",
   "metadata": {},
   "outputs": [
    {
     "data": {
      "text/plain": [
       "no_of_adults                            0\n",
       "no_of_children                          0\n",
       "no_of_weekend_nights                    0\n",
       "no_of_week_nights                       0\n",
       "required_car_parking_space              0\n",
       "lead_time                               0\n",
       "arrival_month                           0\n",
       "arrival_date                            0\n",
       "repeated_guest                          0\n",
       "no_of_previous_cancellations            0\n",
       "no_of_previous_bookings_not_canceled    0\n",
       "avg_price_per_room                      0\n",
       "no_of_special_requests                  0\n",
       "room_type_reserved_Room_Type 1          0\n",
       "room_type_reserved_Room_Type 2          0\n",
       "room_type_reserved_Room_Type 3          0\n",
       "room_type_reserved_Room_Type 4          0\n",
       "room_type_reserved_Room_Type 5          0\n",
       "room_type_reserved_Room_Type 6          0\n",
       "room_type_reserved_Room_Type 7          0\n",
       "booking_status_Not_Canceled             0\n",
       "dtype: int64"
      ]
     },
     "execution_count": 169,
     "metadata": {},
     "output_type": "execute_result"
    }
   ],
   "source": [
    "# Let's check the data for missing values.\n",
    "# As we can see there are no missing values in the data. \n",
    "finaldata.isnull().sum()"
   ]
  },
  {
   "cell_type": "markdown",
   "id": "70502dc2",
   "metadata": {},
   "source": [
    "### 2.4) logistic regression classification model with 'booking status' column as the target\n"
   ]
  },
  {
   "cell_type": "markdown",
   "id": "cf937367",
   "metadata": {},
   "source": [
    "**Build a logistic regression classification model with ’booking status’ column as the target, and using all other variables as predictors. Divide the data set into training (70 %) and test set (30 %), use random state = 0, and follow the process of building a classification model as discussed in the course.**"
   ]
  },
  {
   "cell_type": "code",
   "execution_count": 170,
   "id": "f445eb5f",
   "metadata": {},
   "outputs": [
    {
     "data": {
      "text/html": [
       "<div>\n",
       "<style scoped>\n",
       "    .dataframe tbody tr th:only-of-type {\n",
       "        vertical-align: middle;\n",
       "    }\n",
       "\n",
       "    .dataframe tbody tr th {\n",
       "        vertical-align: top;\n",
       "    }\n",
       "\n",
       "    .dataframe thead th {\n",
       "        text-align: right;\n",
       "    }\n",
       "</style>\n",
       "<table border=\"1\" class=\"dataframe\">\n",
       "  <thead>\n",
       "    <tr style=\"text-align: right;\">\n",
       "      <th></th>\n",
       "      <th>booking_status_Not_Canceled</th>\n",
       "    </tr>\n",
       "  </thead>\n",
       "  <tbody>\n",
       "    <tr>\n",
       "      <th>no_of_adults</th>\n",
       "      <td>-0.086920</td>\n",
       "    </tr>\n",
       "    <tr>\n",
       "      <th>no_of_children</th>\n",
       "      <td>-0.033078</td>\n",
       "    </tr>\n",
       "    <tr>\n",
       "      <th>no_of_weekend_nights</th>\n",
       "      <td>-0.061563</td>\n",
       "    </tr>\n",
       "    <tr>\n",
       "      <th>no_of_week_nights</th>\n",
       "      <td>-0.092996</td>\n",
       "    </tr>\n",
       "    <tr>\n",
       "      <th>required_car_parking_space</th>\n",
       "      <td>0.086185</td>\n",
       "    </tr>\n",
       "    <tr>\n",
       "      <th>lead_time</th>\n",
       "      <td>-0.438538</td>\n",
       "    </tr>\n",
       "    <tr>\n",
       "      <th>arrival_month</th>\n",
       "      <td>0.011233</td>\n",
       "    </tr>\n",
       "    <tr>\n",
       "      <th>arrival_date</th>\n",
       "      <td>-0.010629</td>\n",
       "    </tr>\n",
       "    <tr>\n",
       "      <th>repeated_guest</th>\n",
       "      <td>0.107287</td>\n",
       "    </tr>\n",
       "    <tr>\n",
       "      <th>no_of_previous_cancellations</th>\n",
       "      <td>0.033728</td>\n",
       "    </tr>\n",
       "    <tr>\n",
       "      <th>no_of_previous_bookings_not_canceled</th>\n",
       "      <td>0.060179</td>\n",
       "    </tr>\n",
       "    <tr>\n",
       "      <th>avg_price_per_room</th>\n",
       "      <td>-0.142569</td>\n",
       "    </tr>\n",
       "    <tr>\n",
       "      <th>no_of_special_requests</th>\n",
       "      <td>0.253070</td>\n",
       "    </tr>\n",
       "    <tr>\n",
       "      <th>room_type_reserved_Room_Type 1</th>\n",
       "      <td>0.020326</td>\n",
       "    </tr>\n",
       "    <tr>\n",
       "      <th>room_type_reserved_Room_Type 2</th>\n",
       "      <td>-0.000548</td>\n",
       "    </tr>\n",
       "    <tr>\n",
       "      <th>room_type_reserved_Room_Type 3</th>\n",
       "      <td>0.001241</td>\n",
       "    </tr>\n",
       "    <tr>\n",
       "      <th>room_type_reserved_Room_Type 4</th>\n",
       "      <td>-0.013309</td>\n",
       "    </tr>\n",
       "    <tr>\n",
       "      <th>room_type_reserved_Room_Type 5</th>\n",
       "      <td>0.010224</td>\n",
       "    </tr>\n",
       "    <tr>\n",
       "      <th>room_type_reserved_Room_Type 6</th>\n",
       "      <td>-0.032652</td>\n",
       "    </tr>\n",
       "    <tr>\n",
       "      <th>room_type_reserved_Room_Type 7</th>\n",
       "      <td>0.014062</td>\n",
       "    </tr>\n",
       "    <tr>\n",
       "      <th>booking_status_Not_Canceled</th>\n",
       "      <td>1.000000</td>\n",
       "    </tr>\n",
       "  </tbody>\n",
       "</table>\n",
       "</div>"
      ],
      "text/plain": [
       "                                      booking_status_Not_Canceled\n",
       "no_of_adults                                            -0.086920\n",
       "no_of_children                                          -0.033078\n",
       "no_of_weekend_nights                                    -0.061563\n",
       "no_of_week_nights                                       -0.092996\n",
       "required_car_parking_space                               0.086185\n",
       "lead_time                                               -0.438538\n",
       "arrival_month                                            0.011233\n",
       "arrival_date                                            -0.010629\n",
       "repeated_guest                                           0.107287\n",
       "no_of_previous_cancellations                             0.033728\n",
       "no_of_previous_bookings_not_canceled                     0.060179\n",
       "avg_price_per_room                                      -0.142569\n",
       "no_of_special_requests                                   0.253070\n",
       "room_type_reserved_Room_Type 1                           0.020326\n",
       "room_type_reserved_Room_Type 2                          -0.000548\n",
       "room_type_reserved_Room_Type 3                           0.001241\n",
       "room_type_reserved_Room_Type 4                          -0.013309\n",
       "room_type_reserved_Room_Type 5                           0.010224\n",
       "room_type_reserved_Room_Type 6                          -0.032652\n",
       "room_type_reserved_Room_Type 7                           0.014062\n",
       "booking_status_Not_Canceled                              1.000000"
      ]
     },
     "execution_count": 170,
     "metadata": {},
     "output_type": "execute_result"
    }
   ],
   "source": [
    "# First I look if there are any high correlations in the data.\n",
    "# We can see that some of the rooms types are more correlated to customer not canceling\n",
    "# the booking than other rooms. Also, it seems that if the customer is repeated guest it has a positive effect\n",
    "# on not canceling the booking. Also customers making special requests seems to have somewhat strong correlation to not canceling\n",
    "# the booking. \n",
    "\n",
    "finaldata.corr()[['booking_status_Not_Canceled']]"
   ]
  },
  {
   "cell_type": "code",
   "execution_count": 171,
   "id": "fc196c23",
   "metadata": {},
   "outputs": [],
   "source": [
    "# Selecting the predictor variables\n",
    "predict_X = finaldata[['no_of_adults','room_type_reserved_Room_Type 1','room_type_reserved_Room_Type 2','room_type_reserved_Room_Type 3','room_type_reserved_Room_Type 4','room_type_reserved_Room_Type 5','room_type_reserved_Room_Type 6','room_type_reserved_Room_Type 7','no_of_children','no_of_weekend_nights','no_of_week_nights','required_car_parking_space','lead_time','arrival_month','arrival_date','repeated_guest','no_of_previous_cancellations','no_of_previous_bookings_not_canceled','avg_price_per_room','no_of_special_requests']]\n",
    "\n",
    "# Selecting the target \n",
    "target_X = finaldata.booking_status_Not_Canceled"
   ]
  },
  {
   "cell_type": "code",
   "execution_count": 172,
   "id": "933141c1",
   "metadata": {},
   "outputs": [],
   "source": [
    "# Creating training and test set\n",
    "X_train,X_test,y_train,y_test = train_test_split(predict_X,target_X,test_size = 0.3,random_state = 0)"
   ]
  },
  {
   "cell_type": "code",
   "execution_count": 173,
   "id": "3c6592ef",
   "metadata": {},
   "outputs": [],
   "source": [
    "# Creating the model object\n",
    "model = LogisticRegression(solver = 'lbfgs')\n"
   ]
  },
  {
   "cell_type": "code",
   "execution_count": 174,
   "id": "1fcf443c",
   "metadata": {},
   "outputs": [
    {
     "name": "stderr",
     "output_type": "stream",
     "text": [
      "/Users/atte/opt/anaconda3/lib/python3.9/site-packages/sklearn/linear_model/_logistic.py:814: ConvergenceWarning: lbfgs failed to converge (status=1):\n",
      "STOP: TOTAL NO. of ITERATIONS REACHED LIMIT.\n",
      "\n",
      "Increase the number of iterations (max_iter) or scale the data as shown in:\n",
      "    https://scikit-learn.org/stable/modules/preprocessing.html\n",
      "Please also refer to the documentation for alternative solver options:\n",
      "    https://scikit-learn.org/stable/modules/linear_model.html#logistic-regression\n",
      "  n_iter_i = _check_optimize_result(\n"
     ]
    },
    {
     "data": {
      "text/plain": [
       "LogisticRegression()"
      ]
     },
     "execution_count": 174,
     "metadata": {},
     "output_type": "execute_result"
    }
   ],
   "source": [
    "#Training the model with the predictors and outcome\n",
    "model.fit(X_train, y_train)\n"
   ]
  },
  {
   "cell_type": "code",
   "execution_count": 175,
   "id": "722ca3c8",
   "metadata": {
    "scrolled": false
   },
   "outputs": [
    {
     "name": "stdout",
     "output_type": "stream",
     "text": [
      "Optimization terminated successfully.\n",
      "         Current function value: inf\n",
      "         Iterations 10\n",
      "<statsmodels.discrete.discrete_model.BinaryResultsWrapper object at 0x7fd6e4c43d00>\n"
     ]
    },
    {
     "name": "stderr",
     "output_type": "stream",
     "text": [
      "/Users/atte/opt/anaconda3/lib/python3.9/site-packages/statsmodels/discrete/discrete_model.py:1819: RuntimeWarning: overflow encountered in exp\n",
      "  return 1/(1+np.exp(-X))\n",
      "/Users/atte/opt/anaconda3/lib/python3.9/site-packages/statsmodels/discrete/discrete_model.py:1872: RuntimeWarning: divide by zero encountered in log\n",
      "  return np.sum(np.log(self.cdf(q*np.dot(X,params))))\n"
     ]
    }
   ],
   "source": [
    "# Using the statsmodel package to analyze the outcome of the model\n",
    "logit_model = sm.Logit(y_train,X_train)\n",
    "outcome = logit_model.fit()\n",
    "print(outcome)"
   ]
  },
  {
   "cell_type": "code",
   "execution_count": 176,
   "id": "77e76afe",
   "metadata": {},
   "outputs": [
    {
     "data": {
      "text/plain": [
       "array([1, 0, 0, 1, 1, 1, 1, 0, 1, 1], dtype=uint8)"
      ]
     },
     "execution_count": 176,
     "metadata": {},
     "output_type": "execute_result"
    }
   ],
   "source": [
    "# Making predictions with the test data\n",
    "\n",
    "y_predict = model.predict(X_test)\n",
    "y_predict[:10]"
   ]
  },
  {
   "cell_type": "markdown",
   "id": "35e99b73",
   "metadata": {},
   "source": [
    "## 2.5) Confusion matrix\n",
    "\n",
    "**Create the confusion matrix, calculate classification performance measures. What is the accuracy of the model on the test set?**"
   ]
  },
  {
   "cell_type": "code",
   "execution_count": 177,
   "id": "4720288b",
   "metadata": {},
   "outputs": [
    {
     "name": "stdout",
     "output_type": "stream",
     "text": [
      "              precision    recall  f1-score   support\n",
      "\n",
      "           0       0.71      0.53      0.60      3574\n",
      "           1       0.79      0.89      0.84      7309\n",
      "\n",
      "    accuracy                           0.77     10883\n",
      "   macro avg       0.75      0.71      0.72     10883\n",
      "weighted avg       0.77      0.77      0.76     10883\n",
      "\n"
     ]
    }
   ],
   "source": [
    "# Creating a classification report on the test set.\n",
    "# We can see that the accuracy of the test set in this case is 77%.\n",
    "\n",
    "testreport = classification_report(y_test,y_predict)\n",
    "print(testreport)"
   ]
  },
  {
   "cell_type": "markdown",
   "id": "8a6019cc",
   "metadata": {},
   "source": [
    "## 2.6) Model performance\n",
    "**Does the model perform similarly for the two possible categories of the outcome column, i.e. for hotel visits and cancelations? How many false positives do you find, i.e. guests who would visit the hotel but the model predicts that they would cancel the booking?**"
   ]
  },
  {
   "cell_type": "code",
   "execution_count": 178,
   "id": "06a2f016",
   "metadata": {},
   "outputs": [
    {
     "data": {
      "text/plain": [
       "array([[1883, 1691],\n",
       "       [ 780, 6529]])"
      ]
     },
     "execution_count": 178,
     "metadata": {},
     "output_type": "execute_result"
    }
   ],
   "source": [
    "# We can see that the model correctly identified 1883 cases where the customer canceled the booking (True positives)\n",
    "# and 6529 cases where customer did not cancel the booking (True Negatives). In addition, we have 1691 cases where \n",
    "# customers where the model classified the customer to a non-canceling one, but in reality they canceled. \n",
    "# We can see from the model that there are 780 false positives, customers who were classified as if they had canceled\n",
    "# the booking but in fact they did not cancel the booking. \n",
    "confusionmatrix = confusion_matrix(y_test,y_predict)\n",
    "confusionmatrix"
   ]
  },
  {
   "cell_type": "markdown",
   "id": "7b8e1297",
   "metadata": {},
   "source": [
    "# Exercise 3 - K-means clustering"
   ]
  },
  {
   "cell_type": "markdown",
   "id": "afacbe38",
   "metadata": {},
   "source": [
    "**In this exercise you have to work with the data in the file ’iris.csv’, that contains 150 records of Iris flowers of three related species under 5 attributes - Petal Length, Petal Width, Sepal Length, Sepal width and Class (Species). In the data there are three different species present, 50 samples each. You have to perform clustering and assess whether clustering is able to distinguish the three different species.\n",
    "Your task is to perform K-Means clustering on the dataset; in the model building process, do not use the column ’species’.**"
   ]
  },
  {
   "cell_type": "code",
   "execution_count": 179,
   "id": "f06d83fc",
   "metadata": {},
   "outputs": [
    {
     "data": {
      "text/html": [
       "<div>\n",
       "<style scoped>\n",
       "    .dataframe tbody tr th:only-of-type {\n",
       "        vertical-align: middle;\n",
       "    }\n",
       "\n",
       "    .dataframe tbody tr th {\n",
       "        vertical-align: top;\n",
       "    }\n",
       "\n",
       "    .dataframe thead th {\n",
       "        text-align: right;\n",
       "    }\n",
       "</style>\n",
       "<table border=\"1\" class=\"dataframe\">\n",
       "  <thead>\n",
       "    <tr style=\"text-align: right;\">\n",
       "      <th></th>\n",
       "      <th>sepal_length</th>\n",
       "      <th>sepal_width</th>\n",
       "      <th>petal_length</th>\n",
       "      <th>petal_width</th>\n",
       "      <th>species</th>\n",
       "    </tr>\n",
       "  </thead>\n",
       "  <tbody>\n",
       "    <tr>\n",
       "      <th>0</th>\n",
       "      <td>5.1</td>\n",
       "      <td>3.5</td>\n",
       "      <td>1.4</td>\n",
       "      <td>0.2</td>\n",
       "      <td>Iris-setosa</td>\n",
       "    </tr>\n",
       "    <tr>\n",
       "      <th>1</th>\n",
       "      <td>4.9</td>\n",
       "      <td>3.0</td>\n",
       "      <td>1.4</td>\n",
       "      <td>0.2</td>\n",
       "      <td>Iris-setosa</td>\n",
       "    </tr>\n",
       "    <tr>\n",
       "      <th>2</th>\n",
       "      <td>4.7</td>\n",
       "      <td>3.2</td>\n",
       "      <td>1.3</td>\n",
       "      <td>0.2</td>\n",
       "      <td>Iris-setosa</td>\n",
       "    </tr>\n",
       "    <tr>\n",
       "      <th>3</th>\n",
       "      <td>4.6</td>\n",
       "      <td>3.1</td>\n",
       "      <td>1.5</td>\n",
       "      <td>0.2</td>\n",
       "      <td>Iris-setosa</td>\n",
       "    </tr>\n",
       "    <tr>\n",
       "      <th>4</th>\n",
       "      <td>5.0</td>\n",
       "      <td>3.6</td>\n",
       "      <td>1.4</td>\n",
       "      <td>0.2</td>\n",
       "      <td>Iris-setosa</td>\n",
       "    </tr>\n",
       "  </tbody>\n",
       "</table>\n",
       "</div>"
      ],
      "text/plain": [
       "   sepal_length  sepal_width  petal_length  petal_width      species\n",
       "0           5.1          3.5           1.4          0.2  Iris-setosa\n",
       "1           4.9          3.0           1.4          0.2  Iris-setosa\n",
       "2           4.7          3.2           1.3          0.2  Iris-setosa\n",
       "3           4.6          3.1           1.5          0.2  Iris-setosa\n",
       "4           5.0          3.6           1.4          0.2  Iris-setosa"
      ]
     },
     "execution_count": 179,
     "metadata": {},
     "output_type": "execute_result"
    }
   ],
   "source": [
    "# Importing the data\n",
    "\n",
    "flowerdata = pd.read_csv('iris.csv')\n",
    "flowerdata.head()"
   ]
  },
  {
   "cell_type": "code",
   "execution_count": 180,
   "id": "1f2bbb70",
   "metadata": {},
   "outputs": [
    {
     "name": "stdout",
     "output_type": "stream",
     "text": [
      "<class 'pandas.core.frame.DataFrame'>\n",
      "RangeIndex: 150 entries, 0 to 149\n",
      "Data columns (total 5 columns):\n",
      " #   Column        Non-Null Count  Dtype  \n",
      "---  ------        --------------  -----  \n",
      " 0   sepal_length  150 non-null    float64\n",
      " 1   sepal_width   150 non-null    float64\n",
      " 2   petal_length  150 non-null    float64\n",
      " 3   petal_width   150 non-null    float64\n",
      " 4   species       150 non-null    object \n",
      "dtypes: float64(4), object(1)\n",
      "memory usage: 6.0+ KB\n"
     ]
    }
   ],
   "source": [
    "# We can first check if there are any missing values in the data. In this case there are no\n",
    "# missing values. \n",
    "flowerdata.info()"
   ]
  },
  {
   "cell_type": "markdown",
   "id": "232fb133",
   "metadata": {},
   "source": [
    "## 3.1) Determining the optimal number of clusters\n",
    "\n",
    "**Determine the optimal number of clusters using the elbow method, and perform k-means clustering with the chosen value (set random state = 0).**"
   ]
  },
  {
   "cell_type": "code",
   "execution_count": 181,
   "id": "f24d3f8a",
   "metadata": {},
   "outputs": [
    {
     "data": {
      "text/html": [
       "<div>\n",
       "<style scoped>\n",
       "    .dataframe tbody tr th:only-of-type {\n",
       "        vertical-align: middle;\n",
       "    }\n",
       "\n",
       "    .dataframe tbody tr th {\n",
       "        vertical-align: top;\n",
       "    }\n",
       "\n",
       "    .dataframe thead th {\n",
       "        text-align: right;\n",
       "    }\n",
       "</style>\n",
       "<table border=\"1\" class=\"dataframe\">\n",
       "  <thead>\n",
       "    <tr style=\"text-align: right;\">\n",
       "      <th></th>\n",
       "      <th>sepal_length</th>\n",
       "      <th>sepal_width</th>\n",
       "      <th>petal_length</th>\n",
       "      <th>petal_width</th>\n",
       "      <th>species</th>\n",
       "    </tr>\n",
       "  </thead>\n",
       "  <tbody>\n",
       "    <tr>\n",
       "      <th>0</th>\n",
       "      <td>5.1</td>\n",
       "      <td>3.5</td>\n",
       "      <td>1.4</td>\n",
       "      <td>0.2</td>\n",
       "      <td>Iris-setosa</td>\n",
       "    </tr>\n",
       "    <tr>\n",
       "      <th>1</th>\n",
       "      <td>4.9</td>\n",
       "      <td>3.0</td>\n",
       "      <td>1.4</td>\n",
       "      <td>0.2</td>\n",
       "      <td>Iris-setosa</td>\n",
       "    </tr>\n",
       "    <tr>\n",
       "      <th>2</th>\n",
       "      <td>4.7</td>\n",
       "      <td>3.2</td>\n",
       "      <td>1.3</td>\n",
       "      <td>0.2</td>\n",
       "      <td>Iris-setosa</td>\n",
       "    </tr>\n",
       "    <tr>\n",
       "      <th>3</th>\n",
       "      <td>4.6</td>\n",
       "      <td>3.1</td>\n",
       "      <td>1.5</td>\n",
       "      <td>0.2</td>\n",
       "      <td>Iris-setosa</td>\n",
       "    </tr>\n",
       "    <tr>\n",
       "      <th>4</th>\n",
       "      <td>5.0</td>\n",
       "      <td>3.6</td>\n",
       "      <td>1.4</td>\n",
       "      <td>0.2</td>\n",
       "      <td>Iris-setosa</td>\n",
       "    </tr>\n",
       "  </tbody>\n",
       "</table>\n",
       "</div>"
      ],
      "text/plain": [
       "   sepal_length  sepal_width  petal_length  petal_width      species\n",
       "0           5.1          3.5           1.4          0.2  Iris-setosa\n",
       "1           4.9          3.0           1.4          0.2  Iris-setosa\n",
       "2           4.7          3.2           1.3          0.2  Iris-setosa\n",
       "3           4.6          3.1           1.5          0.2  Iris-setosa\n",
       "4           5.0          3.6           1.4          0.2  Iris-setosa"
      ]
     },
     "execution_count": 181,
     "metadata": {},
     "output_type": "execute_result"
    }
   ],
   "source": [
    "# Selecting the data for clustering\n",
    "\n",
    "irisdata = flowerdata.drop('species',axis = 1)\n",
    "\n",
    "# Scaling the data\n",
    "irisdata_scaled = irisdata.apply(lambda x: preprocessing.scale(x))\n",
    "flowerdata.head()"
   ]
  },
  {
   "cell_type": "code",
   "execution_count": 182,
   "id": "f0ab8419",
   "metadata": {},
   "outputs": [],
   "source": [
    "# Using a foor loop to determine the optimal amount of clusters.\n",
    "\n",
    "n_clusters = []\n",
    "\n",
    "for i in range(1,11):\n",
    "    kmeans = KMeans(n_clusters = i, init = 'k-means++',random_state = 0)\n",
    "    kmeans.fit(irisdata_scaled)\n",
    "    n_clusters.append(kmeans.inertia_)\n"
   ]
  },
  {
   "cell_type": "code",
   "execution_count": 140,
   "id": "1541d1c6",
   "metadata": {},
   "outputs": [
    {
     "data": {
      "image/png": "[encoded data removed]",
      "text/plain": [
       "<Figure size 640x480 with 1 Axes>"
      ]
     },
     "metadata": {},
     "output_type": "display_data"
    }
   ],
   "source": [
    "# Plotting the results to determine the optimal amount of clusters. \n",
    "plt.plot(range(1,11),n_clusters)\n",
    "plt.title('The Elbow Method')\n",
    "plt.xlabel('Number of clusters')\n",
    "plt.ylabel('Sum of square error')\n",
    "plt.show()\n",
    "\n",
    "# Based on the plot, I would say 3 clusters would be an optimal amount, \n",
    "# since after that the drop in sum of square errors is not that significant. "
   ]
  },
  {
   "cell_type": "markdown",
   "id": "55059dd8",
   "metadata": {},
   "source": [
    "## 3.2) What is the average of each variable in each cluster (the original, not the scaled variables)?"
   ]
  },
  {
   "cell_type": "code",
   "execution_count": 183,
   "id": "ec794c61",
   "metadata": {},
   "outputs": [
    {
     "data": {
      "text/plain": [
       "array([1, 1, 1, 1, 1, 1, 1, 1, 1, 1, 1, 1, 1, 1, 1, 1, 1, 1, 1, 1, 1, 1,\n",
       "       1, 1, 1, 1, 1, 1, 1, 1, 1, 1, 1, 1, 1, 1, 1, 1, 1, 1, 1, 1, 1, 1,\n",
       "       1, 1, 1, 1, 1, 1, 2, 2, 2, 0, 0, 0, 2, 0, 0, 0, 0, 0, 0, 0, 0, 2,\n",
       "       0, 0, 0, 0, 2, 0, 0, 0, 0, 2, 2, 2, 0, 0, 0, 0, 0, 0, 0, 2, 2, 0,\n",
       "       0, 0, 0, 0, 0, 0, 0, 0, 0, 0, 0, 0, 2, 0, 2, 2, 2, 2, 0, 2, 2, 2,\n",
       "       2, 2, 2, 0, 0, 2, 2, 2, 2, 0, 2, 0, 2, 0, 2, 2, 0, 2, 2, 2, 2, 2,\n",
       "       2, 0, 0, 2, 2, 2, 0, 2, 2, 2, 0, 2, 2, 2, 0, 2, 2, 0], dtype=int32)"
      ]
     },
     "execution_count": 183,
     "metadata": {},
     "output_type": "execute_result"
    }
   ],
   "source": [
    "# Now we should be able to create a model with the optimal amount of clusters and make predictions. \n",
    "# After we have created the model, We can look at the averages. \n",
    "\n",
    "kmeans = KMeans(n_clusters = 3, init = 'k-means++',random_state = 0)\n",
    "\n",
    "y_clust = kmeans.fit_predict(irisdata_scaled)\n",
    "\n",
    "y_clust"
   ]
  },
  {
   "cell_type": "code",
   "execution_count": 184,
   "id": "84d0d2c1",
   "metadata": {},
   "outputs": [
    {
     "data": {
      "text/html": [
       "<div>\n",
       "<style scoped>\n",
       "    .dataframe tbody tr th:only-of-type {\n",
       "        vertical-align: middle;\n",
       "    }\n",
       "\n",
       "    .dataframe tbody tr th {\n",
       "        vertical-align: top;\n",
       "    }\n",
       "\n",
       "    .dataframe thead th {\n",
       "        text-align: right;\n",
       "    }\n",
       "</style>\n",
       "<table border=\"1\" class=\"dataframe\">\n",
       "  <thead>\n",
       "    <tr style=\"text-align: right;\">\n",
       "      <th></th>\n",
       "      <th>sepal_length</th>\n",
       "      <th>sepal_width</th>\n",
       "      <th>petal_length</th>\n",
       "      <th>petal_width</th>\n",
       "    </tr>\n",
       "  </thead>\n",
       "  <tbody>\n",
       "    <tr>\n",
       "      <th>0</th>\n",
       "      <td>5.801887</td>\n",
       "      <td>2.673585</td>\n",
       "      <td>4.369811</td>\n",
       "      <td>1.413208</td>\n",
       "    </tr>\n",
       "    <tr>\n",
       "      <th>1</th>\n",
       "      <td>5.006000</td>\n",
       "      <td>3.418000</td>\n",
       "      <td>1.464000</td>\n",
       "      <td>0.244000</td>\n",
       "    </tr>\n",
       "    <tr>\n",
       "      <th>2</th>\n",
       "      <td>6.780851</td>\n",
       "      <td>3.095745</td>\n",
       "      <td>5.510638</td>\n",
       "      <td>1.972340</td>\n",
       "    </tr>\n",
       "  </tbody>\n",
       "</table>\n",
       "</div>"
      ],
      "text/plain": [
       "   sepal_length  sepal_width  petal_length  petal_width\n",
       "0      5.801887     2.673585      4.369811     1.413208\n",
       "1      5.006000     3.418000      1.464000     0.244000\n",
       "2      6.780851     3.095745      5.510638     1.972340"
      ]
     },
     "execution_count": 184,
     "metadata": {},
     "output_type": "execute_result"
    }
   ],
   "source": [
    "# We should be able to see the averages of the original variables in the table below\n",
    "irisdata.groupby(y_clust).mean()"
   ]
  },
  {
   "cell_type": "markdown",
   "id": "c5536d3d",
   "metadata": {},
   "source": [
    " ## 3.3) Clustering\n",
    "**Perform k-means clustering now with k=3 (if this was not your selected k value). When you compare the resulting clusters with the original ’species’ column, you will find that one of the species is perfectly identified by clustering (i.e., one of the three clusters contains all the datapoints belonging to that species, and no datapoints from other species). Which one is the correctly identified species? When you look at the mean value of the variables, can you identify which variable(s) ’confuse’ the clustering model, i.e., which variables you think are responsible for the other two clusters being the mix of the other two species?**"
   ]
  },
  {
   "cell_type": "code",
   "execution_count": 185,
   "id": "1f96de9a",
   "metadata": {},
   "outputs": [
    {
     "data": {
      "text/html": [
       "<div>\n",
       "<style scoped>\n",
       "    .dataframe tbody tr th:only-of-type {\n",
       "        vertical-align: middle;\n",
       "    }\n",
       "\n",
       "    .dataframe tbody tr th {\n",
       "        vertical-align: top;\n",
       "    }\n",
       "\n",
       "    .dataframe thead th {\n",
       "        text-align: right;\n",
       "    }\n",
       "</style>\n",
       "<table border=\"1\" class=\"dataframe\">\n",
       "  <thead>\n",
       "    <tr style=\"text-align: right;\">\n",
       "      <th>col_0</th>\n",
       "      <th>0</th>\n",
       "      <th>1</th>\n",
       "      <th>2</th>\n",
       "    </tr>\n",
       "    <tr>\n",
       "      <th>species</th>\n",
       "      <th></th>\n",
       "      <th></th>\n",
       "      <th></th>\n",
       "    </tr>\n",
       "  </thead>\n",
       "  <tbody>\n",
       "    <tr>\n",
       "      <th>Iris-setosa</th>\n",
       "      <td>0</td>\n",
       "      <td>50</td>\n",
       "      <td>0</td>\n",
       "    </tr>\n",
       "    <tr>\n",
       "      <th>Iris-versicolor</th>\n",
       "      <td>39</td>\n",
       "      <td>0</td>\n",
       "      <td>11</td>\n",
       "    </tr>\n",
       "    <tr>\n",
       "      <th>Iris-virginica</th>\n",
       "      <td>14</td>\n",
       "      <td>0</td>\n",
       "      <td>36</td>\n",
       "    </tr>\n",
       "  </tbody>\n",
       "</table>\n",
       "</div>"
      ],
      "text/plain": [
       "col_0             0   1   2\n",
       "species                    \n",
       "Iris-setosa       0  50   0\n",
       "Iris-versicolor  39   0  11\n",
       "Iris-virginica   14   0  36"
      ]
     },
     "execution_count": 185,
     "metadata": {},
     "output_type": "execute_result"
    }
   ],
   "source": [
    "# We can compare the original species column with the clustering results by usin crosstabulation function. \n",
    "# We can see that the 'Iris-setosa' specises is the correctly identified species with all the datapoints\n",
    "# belonging to that species. \n",
    "pd.crosstab(flowerdata.species,y_clust)"
   ]
  },
  {
   "cell_type": "code",
   "execution_count": 186,
   "id": "fb4aeb0c",
   "metadata": {},
   "outputs": [
    {
     "data": {
      "text/html": [
       "<div>\n",
       "<style scoped>\n",
       "    .dataframe tbody tr th:only-of-type {\n",
       "        vertical-align: middle;\n",
       "    }\n",
       "\n",
       "    .dataframe tbody tr th {\n",
       "        vertical-align: top;\n",
       "    }\n",
       "\n",
       "    .dataframe thead th {\n",
       "        text-align: right;\n",
       "    }\n",
       "</style>\n",
       "<table border=\"1\" class=\"dataframe\">\n",
       "  <thead>\n",
       "    <tr style=\"text-align: right;\">\n",
       "      <th></th>\n",
       "      <th>sepal_length</th>\n",
       "      <th>sepal_width</th>\n",
       "      <th>petal_length</th>\n",
       "      <th>petal_width</th>\n",
       "    </tr>\n",
       "  </thead>\n",
       "  <tbody>\n",
       "    <tr>\n",
       "      <th>0</th>\n",
       "      <td>5.801887</td>\n",
       "      <td>2.673585</td>\n",
       "      <td>4.369811</td>\n",
       "      <td>1.413208</td>\n",
       "    </tr>\n",
       "    <tr>\n",
       "      <th>1</th>\n",
       "      <td>5.006000</td>\n",
       "      <td>3.418000</td>\n",
       "      <td>1.464000</td>\n",
       "      <td>0.244000</td>\n",
       "    </tr>\n",
       "    <tr>\n",
       "      <th>2</th>\n",
       "      <td>6.780851</td>\n",
       "      <td>3.095745</td>\n",
       "      <td>5.510638</td>\n",
       "      <td>1.972340</td>\n",
       "    </tr>\n",
       "  </tbody>\n",
       "</table>\n",
       "</div>"
      ],
      "text/plain": [
       "   sepal_length  sepal_width  petal_length  petal_width\n",
       "0      5.801887     2.673585      4.369811     1.413208\n",
       "1      5.006000     3.418000      1.464000     0.244000\n",
       "2      6.780851     3.095745      5.510638     1.972340"
      ]
     },
     "execution_count": 186,
     "metadata": {},
     "output_type": "execute_result"
    }
   ],
   "source": [
    "irisdata.groupby(y_clust).mean()"
   ]
  },
  {
   "cell_type": "code",
   "execution_count": 143,
   "id": "633a5af3",
   "metadata": {},
   "outputs": [],
   "source": [
    "# When we look at the 'petal-width' column we can see that the mean value for the cluster 1 is clearly different from\n",
    "# the others. For clusters 0 and 2 we can see that the difference is not that significant, and I believe\n",
    "# the confusion happens here. It is also the same thing with the 'petal_length' variable and I belive that it is\n",
    "# also confusing the clustering model. "
   ]
  }
 ],
 "metadata": {
  "kernelspec": {
   "display_name": "Python 3 (ipykernel)",
   "language": "python",
   "name": "python3"
  },
  "language_info": {
   "codemirror_mode": {
    "name": "ipython",
    "version": 3
   },
   "file_extension": ".py",
   "mimetype": "text/x-python",
   "name": "python",
   "nbconvert_exporter": "python",
   "pygments_lexer": "ipython3",
   "version": "3.9.13"
  }
 },
 "nbformat": 4,
 "nbformat_minor": 5
}
