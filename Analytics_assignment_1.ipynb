{
 "cells": [
  {
   "cell_type": "code",
   "execution_count": 1,
   "metadata": {},
   "outputs": [],
   "source": [
    "## Please enter the following information\n",
    "##\n",
    "## - Your Name: Atte Kohonen\n",
    "##\n",
    "## - Your Matriculation Number: 2101514"
   ]
  },
  {
   "cell_type": "markdown",
   "metadata": {},
   "source": [
    "### Question 1.\n",
    "\n",
    "Please develop a program that starts by taking an integer representing seconds (e.g. 100 means 100 seconds) from the user. Then your program should display the equivalent amount of time in the format of D:H:M:S, where D, H, M, and S represent days, hours, minutes and seconds, respectively.\n",
    "\n",
    "For example, <code>1000000</code> seconds is equivalent to <code>11:13:46:40</code>.\n",
    "\n",
    "**Hint**: There are 24 * 60 * 60 seconds in a day. You can first calculate how many full days there are and keep the remaining seconds for further processing."
   ]
  },
  {
   "cell_type": "code",
   "execution_count": 169,
   "metadata": {},
   "outputs": [
    {
     "name": "stdout",
     "output_type": "stream",
     "text": [
      "Welcome to the seconds converter!\n",
      "\n",
      "The converted amount of seconds will be presented in format of D:H:M:S\n",
      "D = days, H = hours, M = minutes, S = seconds.\n",
      "\n",
      "Please enter a positive interger representing the amount of seconds to be converted here: 1000\n",
      "You entered  1000 seconds.\n",
      "Which is equivalent to 0 : 0 : 16 : 40\n"
     ]
    }
   ],
   "source": [
    "import math\n",
    "print(\"Welcome to the seconds converter!\")\n",
    "print()\n",
    "print(\"The converted amount of seconds will be presented in format of D:H:M:S\")\n",
    "print(\"D = days, H = hours, M = minutes, S = seconds.\")\n",
    "print()\n",
    "\n",
    "userinput = int(input(\"Please enter a positive interger representing the amount of seconds to be converted here: \"))  \n",
    "sinDay = 24*60*60\n",
    "sinHour = 60*60\n",
    "sinMin = 60 \n",
    "\n",
    "def secondsConverter(inputSec):\n",
    "        days = inputSec/sinDay\n",
    "        sleft = (days - math.floor(days))*sinDay\n",
    "        hours = sleft/sinHour\n",
    "        sleft = (hours - math.floor(hours))*sinHour\n",
    "        minutes = sleft/sinMin\n",
    "        sleft = (minutes - math.floor(minutes))\n",
    "        seconds = sleft*sinMin\n",
    "        print(\"You entered \",inputSec,\"seconds.\")\n",
    "        print(\"Which is equivalent to\",math.floor(days),\":\",math.floor(hours),\":\",math.floor(minutes),\":\",round(seconds))\n",
    "secondsConverter(userinput)"
   ]
  },
  {
   "cell_type": "markdown",
   "metadata": {},
   "source": [
    "### Question 2.\n",
    "\n",
    "A zoo determines the price of admission based on the age of the guest:\n",
    " - Guests of 2 years old or less are admitted without charge.\n",
    " - Children between 3 and 12 years of age (both inclusive) cost 14.00 euro per person.\n",
    " - Seniors aged 65 years or over cost 18.00 euro perperson.\n",
    " - Admission charge for all other guests is 23.00 euro per person.\n",
    "\n",
    "You will be given a list of the ages of a group visiting the zoo. Please create a program that displays the total admission cost for the group.\n",
    "\n",
    "Note: Your program must be able to calculate the total admission cost for *any* list of ages assigned to <code>age_list</code>, not just for [3, 33, 42, 70, 65, 1, 10] which is given for testing."
   ]
  },
  {
   "cell_type": "code",
   "execution_count": 1,
   "metadata": {},
   "outputs": [
    {
     "name": "stdout",
     "output_type": "stream",
     "text": [
      "PRICES\n",
      "\n",
      "GUESTS OF 2 YEARS OLD OR LESS ARE ADMITTED WITHOUT CHARGE\n",
      "\n",
      "CHILDREN BETWEEN 3 AND 12 YEARS OF AGE COST 14.00 EUROS PER PERSON\n",
      "\n",
      "SENIORS AGED 65 YEARS OR OVER COST 18.00 EUROS PER PERSON\n",
      "\n",
      "ADMISSION CHARGE FOR ALL OTHER AGES IS 23.00 EUROS\n",
      "\n",
      "The persons is  2 year(s) old\n",
      "No charge.\n",
      "\n",
      "The person is  33 years old\n",
      "The price is 23.00 euros.\n",
      "\n",
      "The person is  42 years old\n",
      "The price is 23.00 euros.\n",
      "\n",
      "The person is  70 years old\n",
      "Therefore, the price is 18.00 euros.\n",
      "\n",
      "The person is  65 years old\n",
      "Therefore, the price is 18.00 euros.\n",
      "\n",
      "The persons is  1 year(s) old\n",
      "No charge.\n",
      "\n",
      "The person is 10 years old\n",
      "Therefore, the price is 14.00 euros.\n",
      "\n",
      "\n",
      "THE TOTAL COST FOR THE GROUP IS: \n",
      "96  euros\n"
     ]
    }
   ],
   "source": [
    "## Use the given list of ages to test your program. The total admission cost for this group shoud be 110 euros.\n",
    "\n",
    "age_list = [2, 33, 42, 70, 65, 1, 10]  \n",
    "\n",
    "## Your progarm starts from here:\n",
    "\n",
    "print(\"PRICES\")\n",
    "print()\n",
    "print(\"GUESTS OF 2 YEARS OLD OR LESS ARE ADMITTED WITHOUT CHARGE\")\n",
    "print()\n",
    "print(\"CHILDREN BETWEEN 3 AND 12 YEARS OF AGE COST 14.00 EUROS PER PERSON\")\n",
    "print()\n",
    "print(\"SENIORS AGED 65 YEARS OR OVER COST 18.00 EUROS PER PERSON\")\n",
    "print()\n",
    "print(\"ADMISSION CHARGE FOR ALL OTHER AGES IS 23.00 EUROS\")\n",
    "print()\n",
    "totalcost = 0\n",
    "for age in age_list:\n",
    "    if(age<=2):\n",
    "        print(\"The persons is \", age, \"year(s) old\") \n",
    "        print(\"No charge.\")\n",
    "        print()\n",
    "        totalcost = totalcost+0\n",
    "    elif(3<=age<=12):\n",
    "        print(\"The person is\",age, \"years old\")\n",
    "        print(\"Therefore, the price is 14.00 euros.\")\n",
    "        print()\n",
    "        totalcost = totalcost + 14\n",
    "    elif(age>=65):\n",
    "        print(\"The person is \",age, \"years old\")\n",
    "        print(\"Therefore, the price is 18.00 euros.\")\n",
    "        print()\n",
    "        totalcost = totalcost + 18\n",
    "    else:\n",
    "        print(\"The person is \",age, \"years old\")\n",
    "        print(\"The price is 23.00 euros.\")\n",
    "        print()\n",
    "        totalcost = totalcost+23\n",
    "print()\n",
    "print(\"THE TOTAL COST FOR THE GROUP IS: \")        \n",
    "print(totalcost,\" euros\")\n",
    "\n"
   ]
  },
  {
   "cell_type": "markdown",
   "metadata": {},
   "source": [
    "### Question 3.\n",
    "\n",
    "In the game of Scrabble, each letter has points associated with it. The total score of a word is the sum of the scores of its letters. More common letters are worth fewer points while less common letters are worth more points. The points associated with each letter are given below as a dictionary. \n",
    "\n",
    "Please write a program that takes a word from the user, then computes and displays the Scrabble score for this word.\n",
    "\n",
    "Note: A Scrabble board includes some squares that multiply the value of a letter or the value of an entire word. For simplicity, we will ignore these squares in this exercise."
   ]
  },
  {
   "cell_type": "code",
   "execution_count": 173,
   "metadata": {},
   "outputs": [
    {
     "name": "stdout",
     "output_type": "stream",
     "text": [
      "Welcome to the game of Scrabble!\n",
      "I will display the Scrabble score for the given word.\n",
      "\n",
      "Please enter your word here: Welcome\n",
      "\n",
      "The letter  W is worth  4 point(s)\n",
      "The letter  E is worth  1 point(s)\n",
      "The letter  L is worth  1 point(s)\n",
      "The letter  C is worth  3 point(s)\n",
      "The letter  O is worth  1 point(s)\n",
      "The letter  M is worth  3 point(s)\n",
      "The letter  E is worth  1 point(s)\n",
      "\n",
      "The total score for your word is 14\n"
     ]
    }
   ],
   "source": [
    "## The dictionary below maps from letters to point values. You can use the dictionary to compute the score.\n",
    "\n",
    "letter_to_point = {\"A\":1, \"B\":3, \"C\":3, \"D\":2, \"E\":1, \"F\":4, \\\n",
    "                   \"G\":2, \"H\":4, \"I\":1, \"J\":2, \"K\":5, \"L\":1, \\\n",
    "                   \"M\":3, \"N\":1, \"O\":1, \"P\":3, \"Q\":10,\"R\":1, \\\n",
    "                   \"S\":1, \"T\":1, \"U\":1, \"V\":4, \"W\":4, \"X\":8, \\\n",
    "                   \"Y\":4, \"Z\":10}\n",
    "\n",
    "## Your program starts from here:\n",
    "print(\"Welcome to the game of Scrabble!\")\n",
    "print(\"I will display the Scrabble score for the given word.\")\n",
    "print()\n",
    "userinput = input(\"Please enter your word here: \")\n",
    "print()\n",
    "capital = userinput.upper()\n",
    "\n",
    "\n",
    "def gameofScrabble(userword):\n",
    "    count = 0\n",
    "    for letter in userword:\n",
    "        if(letter in letter_to_point):\n",
    "            count = count + letter_to_point[letter]\n",
    "            print(\"The letter \",letter, \"is worth \",letter_to_point[letter], \"point(s)\")\n",
    "        else:\n",
    "            print(\"Letter not included in the dictionary. Numbers and spaces are not allowed either. No points.\")\n",
    "    print()\n",
    "    print(\"The total score for your word is\",count)\n",
    "gameofScrabble(capital)"
   ]
  },
  {
   "cell_type": "markdown",
   "metadata": {},
   "source": [
    "### Question 4.\n",
    "\n",
    "Suppose you save €100 *each month* into a savings account with the annual interest rate of 5%. So, the monthly interest rate is 0.05/12 = 0.00417. After the first month, the value in the account becomes\n",
    " \n",
    " > 100 * (1 + 0.00417) = 100.417\n",
    "\n",
    "After the second month, the value in the account becomes\n",
    "\n",
    " > (100 + 100.417) * (1 + 0.00417) = 201.252\n",
    " \n",
    "After the third month, the value in the account becomes\n",
    "\n",
    " > (100 + 201.252) * (1 + 0.00417) = 302.507\n",
    " \n",
    "and so on.\n",
    "\n",
    "Please write a program that asks the user to enter an amount that will be deposited into the savings account each month, the annual interest rate (as a decimal, such as 0.05), and the number of months, and then displays the amount in the savings account after the given month. "
   ]
  },
  {
   "cell_type": "code",
   "execution_count": 3,
   "metadata": {},
   "outputs": [
    {
     "name": "stdout",
     "output_type": "stream",
     "text": [
      "Enter the amount (integer) that you wish to deposit each month: 100\n",
      "Enter the amount of months(integer): 10\n",
      "Enter the annual interest rate as a decimal, for example 0.05: 0.05\n",
      "\n",
      "After month number  1 the account value is 100.417\n",
      "After month number  2 the account value is 201.253\n",
      "After month number  3 the account value is 302.509\n",
      "After month number  4 the account value is 404.187\n",
      "After month number  5 the account value is 506.29\n",
      "After month number  6 the account value is 608.818\n",
      "After month number  7 the account value is 711.774\n",
      "After month number  8 the account value is 815.159\n",
      "After month number  9 the account value is 918.975\n",
      "After month number  10 the account value is 1023.224\n"
     ]
    }
   ],
   "source": [
    "deposit = int(input(\"Enter the amount (integer) that you wish to deposit each month: \"))\n",
    "months = int(input(\"Enter the amount of months(integer): \"))\n",
    "userint = float(input(\"Enter the annual interest rate as a decimal, for example 0.05: \"))\n",
    "print()\n",
    "interest = round(userint/12,5)\n",
    "accvalue = 0\n",
    "\n",
    "for number in range(1,months+1):\n",
    "    accvalue = ((accvalue+deposit)*(1+interest))\n",
    "    print(\"After month number \",number, \"the account value is\", round(accvalue,3))\n",
    "\n",
    "    "
   ]
  },
  {
   "cell_type": "markdown",
   "metadata": {},
   "source": [
    "### Question 5.\n",
    "\n",
    "A positive integer is called a *perfect number* if it is equal to the sum of all of its positive divisors, excluding itself. For example, 6 is the first perfect number, because 6 = 1 + 2 + 3. The next is 28 = 1 + 2 + 4 + 7 + 14. There are altogether four perfect numbers that are less than 10000. Please write a program to find these four numbers."
   ]
  },
  {
   "cell_type": "code",
   "execution_count": 1,
   "metadata": {},
   "outputs": [
    {
     "name": "stdout",
     "output_type": "stream",
     "text": [
      "Please wait a moment for the perfect numbers to show up.\n",
      "\n",
      "The perfect numbers are:  [6, 28, 496, 8128]\n"
     ]
    }
   ],
   "source": [
    "print(\"Please wait a moment for the perfect numbers to show up.\")\n",
    "perfectnumbers = []\n",
    "\n",
    "for n in range(10000,1,-1):\n",
    "    count = 0\n",
    "    for i in range(1,10000):\n",
    "        if(n%i==0 and n != i):\n",
    "            count+=i\n",
    "    if(count == n):\n",
    "        perfectnumbers.append(n)\n",
    "    \n",
    "for a in range(len(perfectnumbers)):\n",
    "    for b in range(len(perfectnumbers)-a-1):\n",
    "        if(perfectnumbers[b] > perfectnumbers[b+1]): \n",
    "            temp = perfectnumbers[b]\n",
    "            perfectnumbers[b] = perfectnumbers[b+1]\n",
    "            perfectnumbers[b+1] = temp\n",
    "print()\n",
    "print(\"The perfect numbers are: \",perfectnumbers)"
   ]
  },
  {
   "cell_type": "markdown",
   "metadata": {},
   "source": [
    "### Question 6.\n",
    "\n",
    "Please extract 'hello' from the following nested dictionary using indexing."
   ]
  },
  {
   "cell_type": "code",
   "execution_count": 9,
   "metadata": {},
   "outputs": [
    {
     "name": "stdout",
     "output_type": "stream",
     "text": [
      "hello\n"
     ]
    }
   ],
   "source": [
    "## The dictionary is given as follows:\n",
    "\n",
    "nested_dict = {'level_1':[1, 'two', 3.0, '4', {'level_2_1':'not there yet', 'level_2_2':['one', {'getting close':{'almost there':[('so close now', 'not yet'), ('finally','hello')]}}]}]}\n",
    "\n",
    "## Your program starts from here:\n",
    "Sayhello = nested_dict['level_1'][4]['level_2_2'][1]['getting close']['almost there'][1][1]\n",
    "print(Sayhello)"
   ]
  },
  {
   "cell_type": "code",
   "execution_count": null,
   "metadata": {},
   "outputs": [],
   "source": []
  },
  {
   "cell_type": "code",
   "execution_count": null,
   "metadata": {},
   "outputs": [],
   "source": []
  }
 ],
 "metadata": {
  "kernelspec": {
   "display_name": "Python 3 (ipykernel)",
   "language": "python",
   "name": "python3"
  },
  "language_info": {
   "codemirror_mode": {
    "name": "ipython",
    "version": 3
   },
   "file_extension": ".py",
   "mimetype": "text/x-python",
   "name": "python",
   "nbconvert_exporter": "python",
   "pygments_lexer": "ipython3",
   "version": "3.9.13"
  }
 },
 "nbformat": 4,
 "nbformat_minor": 4
}
