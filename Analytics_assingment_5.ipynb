{
 "cells": [
  {
   "cell_type": "code",
   "execution_count": 1,
   "id": "d82383fb",
   "metadata": {},
   "outputs": [],
   "source": [
    "# Libraries to be used\n",
    "import pandas as pd\n",
    "import numpy as np\n",
    "import matplotlib.pyplot as plt\n",
    "import seaborn as sns\n",
    "\n",
    "\n",
    "from sklearn import linear_model\n",
    "from sklearn.metrics import mean_squared_error, r2_score\n",
    "import statsmodels.api as sm\n",
    "from sklearn import datasets\n",
    "\n",
    "\n",
    "from sklearn.model_selection import train_test_split\n",
    "from sklearn.linear_model import LogisticRegression\n",
    "from sklearn import metrics\n",
    "from sklearn.preprocessing import MinMaxScaler\n",
    "from sklearn.metrics import confusion_matrix\n",
    "from sklearn.metrics import classification_report\n",
    "from sklearn.model_selection import cross_val_score\n",
    "\n",
    "from sklearn import preprocessing\n",
    "from sklearn.cluster import KMeans"
   ]
  },
  {
   "cell_type": "markdown",
   "id": "7f0ffe5e",
   "metadata": {},
   "source": [
    "Task 1."
   ]
  },
  {
   "cell_type": "code",
   "execution_count": 2,
   "id": "5b30558b",
   "metadata": {},
   "outputs": [
    {
     "name": "stdout",
     "output_type": "stream",
     "text": [
      "  Branch Customer type  Gender  Quantity     Total      Payment   Income  \\\n",
      "0      A        Member  Female         7  548.9715      Ewallet  26.1415   \n",
      "1      C        Normal  Female         5   80.2200         Cash   3.8200   \n",
      "2      A        Normal    Male         7  340.5255  Credit card  16.2155   \n",
      "3      A        Member    Male         8  489.0480      Ewallet  23.2880   \n",
      "4      A        Normal    Male         7  634.3785      Ewallet  30.2085   \n",
      "\n",
      "   Rating  \n",
      "0     9.1  \n",
      "1     9.6  \n",
      "2     7.4  \n",
      "3     8.4  \n",
      "4     5.3  \n",
      "<class 'pandas.core.frame.DataFrame'>\n",
      "RangeIndex: 1000 entries, 0 to 999\n",
      "Data columns (total 8 columns):\n",
      " #   Column         Non-Null Count  Dtype  \n",
      "---  ------         --------------  -----  \n",
      " 0   Branch         1000 non-null   object \n",
      " 1   Customer type  1000 non-null   object \n",
      " 2   Gender         1000 non-null   object \n",
      " 3   Quantity       1000 non-null   int64  \n",
      " 4   Total          1000 non-null   float64\n",
      " 5   Payment        1000 non-null   object \n",
      " 6   Income         1000 non-null   float64\n",
      " 7   Rating         1000 non-null   float64\n",
      "dtypes: float64(3), int64(1), object(4)\n",
      "memory usage: 62.6+ KB\n"
     ]
    }
   ],
   "source": [
    "super_market = pd.read_csv('supermarket.csv', sep = ';')\n",
    "print(super_market.head())\n",
    "super_market.info()"
   ]
  },
  {
   "cell_type": "code",
   "execution_count": 3,
   "id": "502b1384",
   "metadata": {},
   "outputs": [
    {
     "data": {
      "text/html": [
       "<div>\n",
       "<style scoped>\n",
       "    .dataframe tbody tr th:only-of-type {\n",
       "        vertical-align: middle;\n",
       "    }\n",
       "\n",
       "    .dataframe tbody tr th {\n",
       "        vertical-align: top;\n",
       "    }\n",
       "\n",
       "    .dataframe thead th {\n",
       "        text-align: right;\n",
       "    }\n",
       "</style>\n",
       "<table border=\"1\" class=\"dataframe\">\n",
       "  <thead>\n",
       "    <tr style=\"text-align: right;\">\n",
       "      <th></th>\n",
       "      <th>Quantity</th>\n",
       "      <th>Total</th>\n",
       "      <th>Income</th>\n",
       "      <th>Rating</th>\n",
       "    </tr>\n",
       "  </thead>\n",
       "  <tbody>\n",
       "    <tr>\n",
       "      <th>count</th>\n",
       "      <td>1000.000000</td>\n",
       "      <td>1000.000000</td>\n",
       "      <td>1000.000000</td>\n",
       "      <td>1000.00000</td>\n",
       "    </tr>\n",
       "    <tr>\n",
       "      <th>mean</th>\n",
       "      <td>5.510000</td>\n",
       "      <td>322.966749</td>\n",
       "      <td>15.379369</td>\n",
       "      <td>6.97270</td>\n",
       "    </tr>\n",
       "    <tr>\n",
       "      <th>std</th>\n",
       "      <td>2.923431</td>\n",
       "      <td>245.885335</td>\n",
       "      <td>11.708825</td>\n",
       "      <td>1.71858</td>\n",
       "    </tr>\n",
       "    <tr>\n",
       "      <th>min</th>\n",
       "      <td>1.000000</td>\n",
       "      <td>10.678500</td>\n",
       "      <td>0.508500</td>\n",
       "      <td>4.00000</td>\n",
       "    </tr>\n",
       "    <tr>\n",
       "      <th>25%</th>\n",
       "      <td>3.000000</td>\n",
       "      <td>124.422375</td>\n",
       "      <td>5.924875</td>\n",
       "      <td>5.50000</td>\n",
       "    </tr>\n",
       "    <tr>\n",
       "      <th>50%</th>\n",
       "      <td>5.000000</td>\n",
       "      <td>253.848000</td>\n",
       "      <td>12.088000</td>\n",
       "      <td>7.00000</td>\n",
       "    </tr>\n",
       "    <tr>\n",
       "      <th>75%</th>\n",
       "      <td>8.000000</td>\n",
       "      <td>471.350250</td>\n",
       "      <td>22.445250</td>\n",
       "      <td>8.50000</td>\n",
       "    </tr>\n",
       "    <tr>\n",
       "      <th>max</th>\n",
       "      <td>10.000000</td>\n",
       "      <td>1042.650000</td>\n",
       "      <td>49.650000</td>\n",
       "      <td>10.00000</td>\n",
       "    </tr>\n",
       "  </tbody>\n",
       "</table>\n",
       "</div>"
      ],
      "text/plain": [
       "          Quantity        Total       Income      Rating\n",
       "count  1000.000000  1000.000000  1000.000000  1000.00000\n",
       "mean      5.510000   322.966749    15.379369     6.97270\n",
       "std       2.923431   245.885335    11.708825     1.71858\n",
       "min       1.000000    10.678500     0.508500     4.00000\n",
       "25%       3.000000   124.422375     5.924875     5.50000\n",
       "50%       5.000000   253.848000    12.088000     7.00000\n",
       "75%       8.000000   471.350250    22.445250     8.50000\n",
       "max      10.000000  1042.650000    49.650000    10.00000"
      ]
     },
     "execution_count": 3,
     "metadata": {},
     "output_type": "execute_result"
    }
   ],
   "source": [
    "# Checking descriptive statistics\n",
    "# No missing values\n",
    "super_market.describe()"
   ]
  },
  {
   "cell_type": "code",
   "execution_count": 4,
   "id": "80e7969e",
   "metadata": {},
   "outputs": [
    {
     "data": {
      "text/plain": [
       "Quantity    0.705510\n",
       "Total       1.000000\n",
       "Income      1.000000\n",
       "Rating     -0.036442\n",
       "Name: Total, dtype: float64"
      ]
     },
     "execution_count": 4,
     "metadata": {},
     "output_type": "execute_result"
    }
   ],
   "source": [
    "# Based on correlations, among numeric measures Income seem to measure the same thing\n",
    "super_market.corr().Total"
   ]
  },
  {
   "cell_type": "code",
   "execution_count": 5,
   "id": "3616523b",
   "metadata": {},
   "outputs": [
    {
     "data": {
      "text/plain": [
       "<AxesSubplot:xlabel='Income', ylabel='Total'>"
      ]
     },
     "execution_count": 5,
     "metadata": {},
     "output_type": "execute_result"
    },
    {
     "data": {
      "image/png": "[encoded data removed]",
      "text/plain": [
       "<Figure size 640x480 with 1 Axes>"
      ]
     },
     "metadata": {},
     "output_type": "display_data"
    }
   ],
   "source": [
    "# Scatterplot with Income\n",
    "sns.scatterplot(x = 'Income', y = 'Total', data = super_market)"
   ]
  },
  {
   "cell_type": "code",
   "execution_count": 6,
   "id": "1a1f536a",
   "metadata": {},
   "outputs": [
    {
     "data": {
      "text/plain": [
       "<AxesSubplot:xlabel='Total', ylabel='Branch'>"
      ]
     },
     "execution_count": 6,
     "metadata": {},
     "output_type": "execute_result"
    },
    {
     "data": {
      "image/png": "[encoded data removed]",
      "text/plain": [
       "<Figure size 640x480 with 1 Axes>"
      ]
     },
     "metadata": {},
     "output_type": "display_data"
    }
   ],
   "source": [
    "# Total seems to be similar across branches\n",
    "sns.boxplot(x = 'Total', y = 'Branch', data = super_market)"
   ]
  },
  {
   "cell_type": "code",
   "execution_count": 7,
   "id": "05d6ba46",
   "metadata": {},
   "outputs": [
    {
     "data": {
      "text/plain": [
       "<AxesSubplot:xlabel='Rating', ylabel='Total'>"
      ]
     },
     "execution_count": 7,
     "metadata": {},
     "output_type": "execute_result"
    },
    {
     "data": {
      "image/png": "[encoded data removed]",
      "text/plain": [
       "<Figure size 640x480 with 1 Axes>"
      ]
     },
     "metadata": {},
     "output_type": "display_data"
    }
   ],
   "source": [
    "# Rating seems to show no patter, as expected based on correlation already\n",
    "sns.scatterplot(x = 'Rating', y = 'Total', data = super_market)"
   ]
  },
  {
   "cell_type": "code",
   "execution_count": 8,
   "id": "5fa56460",
   "metadata": {},
   "outputs": [
    {
     "name": "stdout",
     "output_type": "stream",
     "text": [
      "Branch\n",
      "A    312.354031\n",
      "B    319.872506\n",
      "C    337.099715\n",
      "Name: Total, dtype: float64\n",
      "Customer type\n",
      "Member    327.791305\n",
      "Normal    318.122856\n",
      "Name: Total, dtype: float64\n",
      "Gender\n",
      "Female    335.095659\n",
      "Male      310.789226\n",
      "Name: Total, dtype: float64\n"
     ]
    }
   ],
   "source": [
    "# Some aggregated values, there seem to be no real difference across categories\n",
    "print(super_market.groupby('Branch').Total.mean())\n",
    "print(super_market.groupby('Customer type').Total.mean())\n",
    "print(super_market.groupby('Gender').Total.mean())"
   ]
  },
  {
   "cell_type": "code",
   "execution_count": null,
   "id": "c63215b6",
   "metadata": {},
   "outputs": [],
   "source": [
    "# Create dummy variables for modelling\n",
    "super_market = pd.get_dummies(super_market, columns=['Customer type', 'Gender', 'Payment'], drop_first = True)"
   ]
  },
  {
   "cell_type": "code",
   "execution_count": null,
   "id": "128509b5",
   "metadata": {},
   "outputs": [],
   "source": [
    "# Creating train and test set\n",
    "sm_train = super_market[super_market.Branch.isin(['A', 'B'])]\n",
    "sm_test = super_market[super_market.Branch.isin(['C'])]\n",
    "\n",
    "# Building the regression model\n",
    "sm_train_X, sm_train_y = sm_train.drop(['Total', 'Branch'], axis = 1), sm_train.Total\n",
    "sm_test_X, sm_test_y = sm_test.drop(['Total', 'Branch'], axis = 1), sm_test.Total\n",
    "\n",
    "# Create the regression model\n",
    "\n",
    "lm = linear_model.LinearRegression()\n",
    "model = lm.fit(sm_train_X, sm_train_y)\n",
    "predictions = lm.predict(sm_test_X)\n",
    "\n",
    "# Perfect score for test set\n",
    "model.score(sm_test_X, sm_test_y)"
   ]
  },
  {
   "cell_type": "code",
   "execution_count": null,
   "id": "458ae8f8",
   "metadata": {},
   "outputs": [],
   "source": [
    "# Create the regression model\n",
    "\n",
    "reg_1 = sm.add_constant(sm_train_X)\n",
    "est_1 = sm.OLS(sm_train_y, reg_1)\n",
    "est_1fit = est_1.fit()\n",
    "\n",
    "\n",
    "# The coefficients of Gender and Customer type are essentially 0, so there no real difference between the categories\n",
    "print(est_1fit.summary())"
   ]
  },
  {
   "cell_type": "markdown",
   "id": "67f1d5a3",
   "metadata": {},
   "source": [
    "Task 2."
   ]
  },
  {
   "cell_type": "code",
   "execution_count": null,
   "id": "c6d5fdde",
   "metadata": {},
   "outputs": [],
   "source": [
    "# Reading data and creating dummy variables\n",
    "hotel = pd.read_csv('hotel.csv', sep = ';')\n",
    "hotel = pd.get_dummies(hotel, columns=['room_type_reserved'], drop_first=True, prefix='romm')\n",
    "hotel.head()"
   ]
  },
  {
   "cell_type": "code",
   "execution_count": null,
   "id": "08a17ddd",
   "metadata": {},
   "outputs": [],
   "source": [
    "# No missing values\n",
    "hotel.info()"
   ]
  },
  {
   "cell_type": "code",
   "execution_count": null,
   "id": "3a4de3f1",
   "metadata": {},
   "outputs": [],
   "source": [
    "# Descriptive statistics\n",
    "hotel.describe()"
   ]
  },
  {
   "cell_type": "code",
   "execution_count": null,
   "id": "7a6e9b7e",
   "metadata": {},
   "outputs": [],
   "source": [
    "# Histogram for lead time\n",
    "sns.histplot(data = hotel, x = 'lead_time')"
   ]
  },
  {
   "cell_type": "code",
   "execution_count": null,
   "id": "94b2f4ff",
   "metadata": {},
   "outputs": [],
   "source": [
    "# Same for not canceled bookings\n",
    "sns.histplot(data = hotel, x = 'no_of_previous_bookings_not_canceled')"
   ]
  },
  {
   "cell_type": "code",
   "execution_count": null,
   "id": "f5a4c166",
   "metadata": {},
   "outputs": [],
   "source": [
    "# Building the classification model\n",
    "\n",
    "X_train, X_test, y_train, y_test = train_test_split(hotel.drop(['booking_status'], axis=1), hotel.booking_status, test_size=0.30, random_state=0)\n",
    "\n",
    "# Build model\n",
    "\n",
    "logistic_regression = LogisticRegression(solver = 'lbfgs', max_iter = 5000)\n",
    "\n",
    "model_1 = logistic_regression.fit(X_train, y_train)\n",
    "\n",
    "# Predict for train and test set\n",
    "\n",
    "y_train_predict = logistic_regression.predict(X_train)\n",
    "y_test_predict = logistic_regression.predict(X_test)\n",
    "\n",
    "# Print results\n",
    "# Results are almost identical for training and test set\n",
    "# We can see that the results are much less reliable when the people who canceled are considered\n",
    "print(metrics.classification_report(y_train, y_train_predict))\n",
    "\n",
    "# Accuracy for test set is 78%, 771 false positives (Canceled is the positive in this case)\n",
    "print(metrics.classification_report(y_test, y_test_predict))\n",
    "print(confusion_matrix(y_test, y_test_predict))"
   ]
  },
  {
   "cell_type": "markdown",
   "id": "d2e98bc3",
   "metadata": {},
   "source": [
    "Task 3."
   ]
  },
  {
   "cell_type": "code",
   "execution_count": null,
   "id": "ff355c62",
   "metadata": {},
   "outputs": [],
   "source": [
    "# Data for clustering\n",
    "iris = pd.read_csv('iris.csv')\n",
    "iris_clust = iris.drop('species',axis=1)\n",
    "\n",
    "# Scale data\n",
    "iris_clust = iris_clust.apply(lambda x: preprocessing.scale(x))\n",
    "iris.head()"
   ]
  },
  {
   "cell_type": "code",
   "execution_count": null,
   "id": "dfb2520b",
   "metadata": {},
   "outputs": [],
   "source": [
    "sse_clust = []\n",
    "\n",
    "for i in range(1, 11):\n",
    "    kmeans = KMeans(n_clusters = i, init = 'k-means++', random_state = 0)\n",
    "    kmeans.fit(iris_clust)\n",
    "    sse_clust.append(kmeans.inertia_)\n",
    "    \n",
    "sse_clust"
   ]
  },
  {
   "cell_type": "code",
   "execution_count": null,
   "id": "91841b6a",
   "metadata": {},
   "outputs": [],
   "source": [
    "# Based on the plot, 3 clusters seems reasonable\n",
    "\n",
    "plt.plot(range(1, 11), sse_clust)\n",
    "plt.title('The Elbow Method')\n",
    "plt.xlabel('Number of clusters')\n",
    "plt.ylabel('SSE')\n",
    "plt.show()"
   ]
  },
  {
   "cell_type": "code",
   "execution_count": null,
   "id": "cbe71225",
   "metadata": {},
   "outputs": [],
   "source": [
    "# Creating model with three clusters\n",
    "\n",
    "kmeans = KMeans(n_clusters = 3, init = 'k-means++', random_state = 0)\n",
    "\n",
    "y_clust = kmeans.fit_predict(iris_clust)\n",
    "\n",
    "y_clust"
   ]
  },
  {
   "cell_type": "code",
   "execution_count": null,
   "id": "8b3ea673",
   "metadata": {},
   "outputs": [],
   "source": [
    "# Means of original variables for the clusters\n",
    "\n",
    "iris.groupby(y_clust).mean()"
   ]
  },
  {
   "cell_type": "code",
   "execution_count": null,
   "id": "5a87aa3c",
   "metadata": {},
   "outputs": [],
   "source": [
    "# Iris setosa is perfectly separated\n",
    "\n",
    "kmeans = KMeans(n_clusters = 3, init = 'k-means++', random_state = 0)\n",
    "\n",
    "y_clust = kmeans.fit_predict(iris_clust)\n",
    "\n",
    "pd.crosstab(iris.species, y_clust)"
   ]
  },
  {
   "cell_type": "code",
   "execution_count": null,
   "id": "ec26e3cb",
   "metadata": {},
   "outputs": [],
   "source": [
    "# Sepal width seem to be the column that makes it more difficult to separate the other two species\n",
    "iris.groupby('species').mean()"
   ]
  },
  {
   "cell_type": "code",
   "execution_count": null,
   "id": "73b611a4",
   "metadata": {},
   "outputs": [],
   "source": []
  }
 ],
 "metadata": {
  "kernelspec": {
   "display_name": "Python 3 (ipykernel)",
   "language": "python",
   "name": "python3"
  },
  "language_info": {
   "codemirror_mode": {
    "name": "ipython",
    "version": 3
   },
   "file_extension": ".py",
   "mimetype": "text/x-python",
   "name": "python",
   "nbconvert_exporter": "python",
   "pygments_lexer": "ipython3",
   "version": "3.9.13"
  }
 },
 "nbformat": 4,
 "nbformat_minor": 5
}
