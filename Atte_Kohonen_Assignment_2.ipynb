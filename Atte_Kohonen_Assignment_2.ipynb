{
 "cells": [
  {
   "cell_type": "code",
   "execution_count": null,
   "metadata": {},
   "outputs": [],
   "source": [
    "## Please enter the following information:\n",
    "##\n",
    "## Your name: Atte Kohonen\n",
    "## Your matriculation number: 2101514"
   ]
  },
  {
   "cell_type": "markdown",
   "metadata": {},
   "source": [
    "### Question 1. <code>leap_year()</code>\n",
    "\n",
    "Most years have 365 days. However, the time required for the Earth to orbit the Sun is actually slightly more than that. As a result, an extra day, February 29, is included in some years to correct for this difference. Such years are referred to as leap years.\n",
    "\n",
    "The rules for determining whether or not a year is a leap year is as follows:\n",
    " - Any year that is divisible by 400 is a leap year.\n",
    " - Of the remaining years, any year that is divisible by 100 is not a leap year.\n",
    " - Of the remaining years, any year that is divisible by 4 is a leap year.\n",
    " - All other years are not leap years.\n",
    " \n",
    "Please write a function, <code>leap_year()</code>, which takes one argument: The year as a four digit integer. Your function should **return** <code>True</code> if the input year is a leap year, and <code>False</code> otherwise."
   ]
  },
  {
   "cell_type": "code",
   "execution_count": 1,
   "metadata": {},
   "outputs": [
    {
     "name": "stdout",
     "output_type": "stream",
     "text": [
      "[False, False, False, False, False, False, False, False]\n",
      "[True, True, True, True, True]\n"
     ]
    }
   ],
   "source": [
    "## Your function starts from here:\n",
    "not_leap_year_list = [1700, 1800, 1900, 2100, 2200, 2300, 2500, 2600]\n",
    "leap_year_list = [1600, 2000, 2400, 1992, 2008]\n",
    "\n",
    "\n",
    "def leap_year(year):\n",
    "    if(year % 400 == 0):\n",
    "        return True\n",
    "    elif (year % 100 == 0):\n",
    "        return False\n",
    "    elif (year % 4 == 0):\n",
    "        return True\n",
    "    else:\n",
    "        return False\n",
    "\n",
    "\n",
    "print(list(map(leap_year, not_leap_year_list)))\n",
    "print(list(map(leap_year, leap_year_list)))\n"
   ]
  },
  {
   "cell_type": "code",
   "execution_count": null,
   "metadata": {},
   "outputs": [],
   "source": [
    "## Test your function with the following commands (NOTE: Please do NOT modify the lists or commands given below)\n",
    "\n",
    "\n",
    "not_leap_year_list = [1700, 1800, 1900, 2100, 2200, 2300, 2500, 2600]\n",
    "\n",
    "print(list(map(leap_year, not_leap_year_list)))\n",
    "\n",
    "leap_year_list = [1600, 2000, 2400, 1992, 2008]\n",
    "    \n",
    "print(list(map(leap_year, leap_year_list)))\n",
    "    \n",
    "\n",
    "## The output returned by the commands in this code cell should look like the following:\n",
    "##\n",
    "## [False, False, False, False, False, False, False, False]\n",
    "## [True, True, True, True, True]"
   ]
  },
  {
   "cell_type": "markdown",
   "metadata": {},
   "source": [
    "### Question 2. <code>days_in_a_month()</code>\n",
    "\n",
    "Please write a function <code>days_in_a_month()</code> that determines how many days there are in a particular month of a particular year. Your function will take two parameters: The month as an integer between 1 and 12, and the year as a four digit integer. Your function should **return** the corresponding number of days to the given month and year. \n",
    "\n",
    "**Hint**: Please ensure that your function returns the correct number of days in February for leap years. You may find your solution to Question 1 helpful when solving this problem."
   ]
  },
  {
   "cell_type": "code",
   "execution_count": 2,
   "metadata": {},
   "outputs": [
    {
     "name": "stdout",
     "output_type": "stream",
     "text": [
      "[31, 28, 31, 30, 31, 30, 31, 31, 30, 31, 30, 31]\n",
      "[31, 29, 31, 30, 31, 30, 31, 31, 30, 31, 30, 31]\n"
     ]
    }
   ],
   "source": [
    "## Your function starts from here:\n",
    "oddmonths = [1, 3, 5, 7, 8, 10, 12]\n",
    "evenmonths = [4, 6, 9, 11]\n",
    "\n",
    "\n",
    "def days_in_a_month(month, year):\n",
    "    if(month == 2 and year % 400 == 0):\n",
    "        return 29\n",
    "    elif(month == 2 and year % 4 == 0):\n",
    "        return 29\n",
    "    elif(month == 2):\n",
    "        return 28\n",
    "    elif(month in oddmonths):\n",
    "        return 31\n",
    "    elif(month in evenmonths):\n",
    "        return 30\n",
    "\n",
    "\n",
    "print(list(map(days_in_a_month, range(1, 13), [2022] * 12)))\n",
    "print(list(map(days_in_a_month, range(1, 13), [2008] * 12)))\n"
   ]
  },
  {
   "cell_type": "code",
   "execution_count": null,
   "metadata": {},
   "outputs": [],
   "source": [
    "## Test your function with the following commands (NOTE: Please do NOT modify the commands given below):\n",
    "\n",
    "\n",
    "print(list(map(days_in_a_month, range(1,13), [2022] * 12)))\n",
    "    \n",
    "print(list(map(days_in_a_month, range(1,13), [2008] * 12)))\n",
    "\n",
    "\n",
    "## The output returned by the commands in this code cell should look like the following:\n",
    "##\n",
    "## [31, 28, 31, 30, 31, 30, 31, 31, 30, 31, 30, 31]\n",
    "## [31, 29, 31, 30, 31, 30, 31, 31, 30, 31, 30, 31]"
   ]
  },
  {
   "cell_type": "markdown",
   "metadata": {},
   "source": [
    "### Question 3. <code>valid_license_plate()</code>\n",
    "\n",
    "In a particular jurisdiction, *older* style license plates consist of *three* uppercase letters followed by *three* numbers. When all of the license plates following that pattern had been used, the format was changed to *four* numbers followed by *three* uppercase letters (*newer* style license plate).\n",
    "\n",
    "Please write a function, <code>valid_license_plate()</code>, which takes a string representing the license as the argument. Then your function should **print** a message indicating whether the string is valid for an older style license plate or a newer style license plate. Your function should **print** an appropriate message if the string entered is not valid for either style of license plate.\n",
    "\n",
    "**Hint**: When the conditional part of an <code>if</code> statement is too long, you can use backslash <code>\\\\</code> as the line break. Or, you can group the conditional part within parentheses <code>()</code>, and break it over multiple lines."
   ]
  },
  {
   "cell_type": "code",
   "execution_count": 3,
   "metadata": {},
   "outputs": [
    {
     "name": "stdout",
     "output_type": "stream",
     "text": [
      "Invalid license plate\n",
      "Invalid license plate\n",
      "Invalid license plate\n",
      "Invalid license plate\n",
      "Invalid license plate\n",
      "Invalid license plate\n",
      "Invalid license plate\n",
      "Invalid license plate\n",
      "Invalid license plate\n",
      "Invalid license plate\n",
      "Invalid license plate\n",
      "Invalid license plate\n",
      "Invalid license plate\n",
      "\n",
      "\n",
      "Valid older style plate\n",
      "Valid older style plate\n",
      "Valid newer style plate\n",
      "Valid newer style plate\n"
     ]
    }
   ],
   "source": [
    "## Your function starts from here:\n",
    "invalid_plate = ['AB123', 'aBC123', 'AB1234', 'ABCD12', 'AB%123', 'ABC12/',\n",
    "                 'ABC1234', 'ABCD123', '123ABCD', '123ABC', '1234AB', '123€ABC', '1234AB&']\n",
    "valid_plate = ['ABC123', 'GHN492', '4639IUG', '0814OAT']\n",
    "\n",
    "\n",
    "def valid_license_plate(string):\n",
    "    if(len(string) == 6 and string[:3].isalpha() and string[:3].isupper() and string[3:6].isdigit()):\n",
    "        print(\"Valid older style plate\")\n",
    "    elif(len(string) == 7 and string[:4].isdigit() and string[4:7].isalpha()):\n",
    "        print(\"Valid newer style plate\")\n",
    "    else:\n",
    "        print(\"Invalid license plate\")\n",
    "\n",
    "\n",
    "for plate in invalid_plate:\n",
    "    valid_license_plate(plate)\n",
    "\n",
    "print(\"\\n\")\n",
    "\n",
    "for plate in valid_plate:\n",
    "    valid_license_plate(plate)\n"
   ]
  },
  {
   "cell_type": "code",
   "execution_count": null,
   "metadata": {},
   "outputs": [],
   "source": [
    "## Test your function with the following commands (NOTE: Please do NOT modify the lists or commands given below)\n",
    "\n",
    "\n",
    "invalid_plate = ['AB123', 'aBC123', 'AB1234', 'ABCD12', 'AB%123', 'ABC12/', \n",
    "                 'ABC1234', 'ABCD123', '123ABCD', '123ABC', '1234AB', '123€ABC', '1234AB&']\n",
    "\n",
    "for plate in invalid_plate:\n",
    "    valid_license_plate(plate)\n",
    "    \n",
    "print(\"\\n\")\n",
    "\n",
    "valid_plate = ['ABC123', 'GHN492', '4639IUG', '0814OAT']\n",
    "\n",
    "for plate in valid_plate:\n",
    "    valid_license_plate(plate)\n",
    "    \n",
    "\n",
    "## The output returned by the commands in this code cell should look like the following:\n",
    "##\n",
    "## Invalid license plate\n",
    "## Invalid license plate\n",
    "## Invalid license plate\n",
    "## Invalid license plate\n",
    "## Invalid license plate\n",
    "## Invalid license plate\n",
    "## Invalid license plate\n",
    "## Invalid license plate\n",
    "## Invalid license plate\n",
    "## Invalid license plate\n",
    "## Invalid license plate\n",
    "## Invalid license plate\n",
    "## Invalid license plate\n",
    "##\n",
    "##\n",
    "## Valid older style license plate\n",
    "## Valid older style license plate\n",
    "## Valid newer style license plate\n",
    "## Valid newer style license plate"
   ]
  },
  {
   "cell_type": "markdown",
   "metadata": {},
   "source": [
    "### Question 4. <code>morse_to_text()</code>\n",
    "\n",
    "Please use the given dictionary <code>morse_to_latin_dict</code> to write a function <code>morse_to_text()</code>, which can interpret a Morse code to text. That is, your function will take a string of Morse code as its argument, and **return** the corresponding text as a string.\n",
    "\n",
    "For example, the corresponding text to the Morse code <code>'.... ..    - .... . .-. . -.-.--'</code> is <code>'Hi there!'</code>\n",
    "\n",
    "Note that Morse characters of the same word are separated by *one* space, and Morse words are separated by *four* spaces.\n",
    "\n",
    "**Hint**: The <code>.split()</code> method might help."
   ]
  },
  {
   "cell_type": "code",
   "execution_count": null,
   "metadata": {},
   "outputs": [],
   "source": [
    "## The following dictionary maps each Morse character to one Latin character.\n",
    "\n",
    "## Please run this code cell without modifying anything in it.\n",
    "\n",
    "\n",
    "morse_to_latin_dict = {'.-': 'A', '-...': 'B', '-.-.': 'C', '-..': 'D', \\\n",
    "                       '.': 'E', '..-.': 'F', '--.': 'G', '....': 'H', \\\n",
    "                       '..': 'I', '.---': 'J', '-.-': 'K', '.-..': 'L', \\\n",
    "                       '--': 'M', '-.': 'N', '---': 'O', '.--.': 'P', \\\n",
    "                       '--.-': 'Q', '.-.': 'R', '...': 'S', '-': 'T', \\\n",
    "                       '..-': 'U', '...-': 'V', '.--': 'W', '-..-': 'X', \\\n",
    "                       '-.--': 'Y', '--..': 'Z', '.----': '1', '..---': '2', \\\n",
    "                       '...--': '3', '....-': '4', '.....': '5', '-....': '6', \\\n",
    "                       '--...': '7', '---..': '8', '----.': '9', '-----': '0', \\\n",
    "                       '--..--': ',', '.-.-.-': '.', '..--..': '?', '-.-.-': ';', \\\n",
    "                       '---...': ':', '-..-.': '/', '-....-': '-', '.----.': \"'\", \\\n",
    "                       '-.--.-': '(', '..--.-': '_', '-.-.--': '!'}\n",
    "\n",
    "\n",
    "## Note: The Morse character '-.--.-' represents '(', ')', '[', ']', '{' or '}'."
   ]
  },
  {
   "cell_type": "code",
   "execution_count": 9,
   "metadata": {},
   "outputs": [
    {
     "name": "stdout",
     "output_type": "stream",
     "text": [
      "PROGRAMMING FOR ANALYTICS \n",
      "HI THERE! \n",
      "A SERIES OF DOTS AND DASHES IS MORSE CODE. \n"
     ]
    }
   ],
   "source": [
    "## Your function starts from here:\n",
    "morse_to_latin_dict = {'.-': 'A', '-...': 'B', '-.-.': 'C', '-..': 'D',\n",
    "                       '.': 'E', '..-.': 'F', '--.': 'G', '....': 'H',\n",
    "                       '..': 'I', '.---': 'J', '-.-': 'K', '.-..': 'L',\n",
    "                       '--': 'M', '-.': 'N', '---': 'O', '.--.': 'P',\n",
    "                       '--.-': 'Q', '.-.': 'R', '...': 'S', '-': 'T',\n",
    "                       '..-': 'U', '...-': 'V', '.--': 'W', '-..-': 'X',\n",
    "                       '-.--': 'Y', '--..': 'Z', '.----': '1', '..---': '2',\n",
    "                       '...--': '3', '....-': '4', '.....': '5', '-....': '6',\n",
    "                       '--...': '7', '---..': '8', '----.': '9', '-----': '0',\n",
    "                       '--..--': ',', '.-.-.-': '.', '..--..': '?', '-.-.-': ';',\n",
    "                       '---...': ':', '-..-.': '/', '-....-': '-', '.----.': \"'\",\n",
    "                       '-.--.-': '(', '..--.-': '_', '-.-.--': '!'}\n",
    "\n",
    "\n",
    "def morse_to_text(morsecode):\n",
    "    codegroups = morsecode.split('    ')\n",
    "    collectletters = \"\"\n",
    "    for codegroup in codegroups:\n",
    "        codes = codegroup.split(' ')\n",
    "        for code in codes:\n",
    "            collectletters += morse_to_latin_dict[code]\n",
    "        collectletters += \" \"\n",
    "    return collectletters\n",
    "\n",
    "\n",
    "print(morse_to_text('.--. .-. --- --. .-. .- -- -- .. -. --.    ..-. --- .-.    .- -. .- .-.. -.-- - .. -.-. ...'))\n",
    "print(morse_to_text('.... ..    - .... . .-. . -.-.--'))\n",
    "print(morse_to_text('.-    ... . .-. .. . ...    --- ..-.    -.. --- - ...    .- -. -..    -.. .- ... .... . ...    .. ...    -- --- .-. ... .    -.-. --- -.. . .-.-.-'))\n",
    "\n"
   ]
  },
  {
   "cell_type": "code",
   "execution_count": null,
   "metadata": {},
   "outputs": [],
   "source": [
    "## Test your function with the following Morse codes (NOTE: Please do NOT modify the Morse codes):\n",
    "\n",
    "\n",
    "print(morse_to_text('.--. .-. --- --. .-. .- -- -- .. -. --.    ..-. --- .-.    .- -. .- .-.. -.-- - .. -.-. ...'))\n",
    "\n",
    "print(morse_to_text('.... ..    - .... . .-. . -.-.--'))\n",
    "\n",
    "print(morse_to_text('.-    ... . .-. .. . ...    --- ..-.    -.. --- - ...    .- -. -..    -.. .- ... .... . ...    .. ...    -- --- .-. ... .    -.-. --- -.. . .-.-.-'))\n",
    "\n",
    "\n",
    "## The texts corresponding to the given Morse codes are as follows:\n",
    "##\n",
    "## PROGRAMMING FOR ANALYTICS \n",
    "## HI THERE! \n",
    "## A SERIES OF DOTS AND DASHES IS MORSE CODE."
   ]
  },
  {
   "cell_type": "markdown",
   "metadata": {},
   "source": [
    "### Question 5. <code>babylonian()</code>\n",
    "\n",
    "There are several techniques for calculating the square roots. One such technique is known as the Babylonian function. It approximates the square root of a positive number, <code>n</code>, by repeatedly performing a calculation using the following formula:\n",
    "\n",
    "    next_guess = (last_guess + (n / last_guess)) / 2\n",
    "\n",
    "When next_guess and last_guess are almost identical, next_guess is the approximated square root. The initial guess can be any positive value (e.g., 1). This value will be the starting value for last_guess. If the absolute difference between next_guess and last_guess is less than a very small number, such as 0.0001, you can claim that next_guess is the approximated square root of <code>n</code>. If not, next_guess becomes last_guess and the approximation process continues.\n",
    "\n",
    "Please write a function <code>babylonian()</code> that implements the aforementioned technique. Your function will take one positive number <code>n</code> as the argument and **return** its square root."
   ]
  },
  {
   "cell_type": "code",
   "execution_count": 11,
   "metadata": {},
   "outputs": [
    {
     "name": "stdout",
     "output_type": "stream",
     "text": [
      "1.4142135623746899\n",
      "1.7320508100147274\n",
      "2.000000000000002\n",
      "2.236067977499978\n",
      "2.4494897427875517\n",
      "2.6457513111113693\n",
      "2.8284271250498643\n",
      "3.000000001396984\n",
      "3.162277660168379\n",
      "3.3166247903554\n",
      "3.464101615137755\n",
      "3.6055512754639905\n",
      "3.7416573867739458\n",
      "3.872983346207433\n",
      "4.000000000000051\n",
      "4.123105625617805\n",
      "4.2426406871196605\n",
      "4.358898943541577\n",
      "4.47213595500161\n"
     ]
    }
   ],
   "source": [
    "## Your function starts from here:\n",
    "def babylonian(n):\n",
    "    last_quess = 1\n",
    "    while(True):\n",
    "        next_guess = (last_quess+(n/last_quess))/2\n",
    "        diff = abs(next_guess - last_quess)\n",
    "        if(diff < 0.0001):\n",
    "            return next_guess\n",
    "        else:\n",
    "            last_quess = next_guess\n",
    "\n",
    "\n",
    "for n in range(2, 21):\n",
    "    print(babylonian(n))\n"
   ]
  },
  {
   "cell_type": "code",
   "execution_count": null,
   "metadata": {},
   "outputs": [],
   "source": [
    "## Test your function with the following commands (NOTE: Please do NOT modify the commands given below)\n",
    "\n",
    "\n",
    "for n in range(2, 21):\n",
    "    print(babylonian(n))\n",
    "    \n",
    "\n",
    "## The output returned by the commands in this code cell should look like the following:\n",
    "##\n",
    "## 1.4142135623746899\n",
    "## 1.7320508100147274\n",
    "## 2.000000000000002\n",
    "## 2.236067977499978\n",
    "## 2.4494897427875517\n",
    "## 2.6457513111113693\n",
    "## 2.8284271250498643\n",
    "## 3.000000001396984\n",
    "## 3.162277660168379\n",
    "## 3.3166247903554\n",
    "## 3.464101615137755\n",
    "## 3.6055512754639905\n",
    "## 3.7416573867739458\n",
    "## 3.872983346207433\n",
    "## 4.000000000000051\n",
    "## 4.123105625617805\n",
    "## 4.2426406871196605\n",
    "## 4.358898943541577\n",
    "## 4.47213595500161"
   ]
  }
 ],
 "metadata": {
  "kernelspec": {
   "display_name": "Python 3 (ipykernel)",
   "language": "python",
   "name": "python3"
  },
  "language_info": {
   "codemirror_mode": {
    "name": "ipython",
    "version": 3
   },
   "file_extension": ".py",
   "mimetype": "text/x-python",
   "name": "python",
   "nbconvert_exporter": "python",
   "pygments_lexer": "ipython3",
   "version": "3.9.13"
  }
 },
 "nbformat": 4,
 "nbformat_minor": 4
}
